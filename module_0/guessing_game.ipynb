{
 "cells": [
  {
   "cell_type": "markdown",
   "source": [
    "Программа для автоматического угадывания загадонного числа"
   ],
   "metadata": {
    "collapsed": false
   }
  },
  {
   "cell_type": "code",
   "execution_count": 15,
   "outputs": [
    {
     "name": "stdout",
     "output_type": "stream",
     "text": [
      "Ваш алгоритм угадывает число в среднем за 5 попыток\n"
     ]
    },
    {
     "data": {
      "text/plain": "5"
     },
     "execution_count": 15,
     "metadata": {},
     "output_type": "execute_result"
    }
   ],
   "source": [
    "import numpy as np\n",
    "def game_core_v2(number):\n",
    "    \"\"\"Сначала устанавливаем любое random число.\n",
    "    В зависимости от того выбранное число больше или меньше нужного,\n",
    "    ищем среднее число в диапазоне между загаданным и выбранным числом.\n",
    "    Функция принимает загаданное число и возвращает число попыток\"\"\"\n",
    "\n",
    "    count = 1\n",
    "    predict = np.random.randint(1,101)\n",
    "\n",
    "    while number != predict:\n",
    "        count+=1\n",
    "        if number > predict:\n",
    "            predict = predict + (number - predict)//2 + 1\n",
    "        elif number < predict:\n",
    "            predict = predict//2\n",
    "\n",
    "    return count\n",
    "\n",
    "\n",
    "def score_game(game_core):\n",
    "    \"\"\"Запускаем игру 1000 раз, чтобы узнать, как быстро игра угадывает число\"\"\"\n",
    "\n",
    "    count_ls = []\n",
    "    np.random.seed(1)\n",
    "\n",
    "    random_array = np.random.randint(1,101, size=1000)\n",
    "    for number in random_array:\n",
    "        count_ls.append(game_core(number))\n",
    "    score = int(np.mean(count_ls))\n",
    "\n",
    "    print(f\"Ваш алгоритм угадывает число в среднем за {score} попыток\")\n",
    "    return score\n",
    "\n",
    "score_game(game_core_v2)"
   ],
   "metadata": {
    "collapsed": false,
    "pycharm": {
     "name": "#%%\n"
    }
   }
  }
 ],
 "metadata": {
  "kernelspec": {
   "display_name": "Python 3",
   "language": "python",
   "name": "python3"
  },
  "language_info": {
   "codemirror_mode": {
    "name": "ipython",
    "version": 2
   },
   "file_extension": ".py",
   "mimetype": "text/x-python",
   "name": "python",
   "nbconvert_exporter": "python",
   "pygments_lexer": "ipython2",
   "version": "2.7.6"
  }
 },
 "nbformat": 4,
 "nbformat_minor": 0
}