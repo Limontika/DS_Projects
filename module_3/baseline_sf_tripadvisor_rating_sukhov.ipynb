{
  "nbformat": 4,
  "nbformat_minor": 0,
  "metadata": {
    "kernelspec": {
      "display_name": "Python 3",
      "language": "python",
      "name": "python3"
    },
    "language_info": {
      "codemirror_mode": {
        "name": "ipython",
        "version": 3
      },
      "file_extension": ".py",
      "mimetype": "text/x-python",
      "name": "python",
      "nbconvert_exporter": "python",
      "pygments_lexer": "ipython3",
      "version": "3.6.6"
    },
    "colab": {
      "name": "baseline-sf-tripadvisor-rating-sukhov.ipynb",
      "provenance": [],
      "collapsed_sections": [],
      "include_colab_link": true
    }
  },
  "cells": [
    {
      "cell_type": "markdown",
      "metadata": {
        "id": "view-in-github",
        "colab_type": "text"
      },
      "source": [
        "<a href=\"https://colab.research.google.com/github/Limontika/DS_Projects/blob/main/module_3/baseline_sf_tripadvisor_rating_sukhov.ipynb\" target=\"_parent\"><img src=\"https://colab.research.google.com/assets/colab-badge.svg\" alt=\"Open In Colab\"/></a>"
      ]
    },
    {
      "cell_type": "markdown",
      "metadata": {
        "id": "jz57v2wSIK0q"
      },
      "source": [
        "![](https://www.pata.org/wp-content/uploads/2014/09/TripAdvisor_Logo-300x119.png)\n",
        "# Predict TripAdvisor Rating\n",
        "## В этом соревновании нам предстоит предсказать рейтинг ресторана в TripAdvisor\n",
        "**По ходу задачи:**\n",
        "* Прокачаем работу с pandas\n",
        "* Научимся работать с Kaggle Notebooks\n",
        "* Поймем как делать предобработку различных данных\n",
        "* Научимся работать с пропущенными данными (Nan)\n",
        "* Познакомимся с различными видами кодирования признаков\n",
        "* Немного попробуем [Feature Engineering](https://ru.wikipedia.org/wiki/Конструирование_признаков) (генерировать новые признаки)\n",
        "* И совсем немного затронем ML\n",
        "* И многое другое...   \n"
      ]
    },
    {
      "cell_type": "markdown",
      "metadata": {
        "id": "l5ZxXWVDIK02"
      },
      "source": [
        "# import"
      ]
    },
    {
      "cell_type": "code",
      "metadata": {
        "_cell_guid": "b1076dfc-b9ad-4769-8c92-a6c4dae69d19",
        "_uuid": "8f2839f25d086af736a60e9eeb907d3b93b6e0e5",
        "colab": {
          "base_uri": "https://localhost:8080/"
        },
        "id": "w24N_6hQIK04",
        "outputId": "6763a48e-2e03-4e57-a30e-ecb7bc5d4cc7"
      },
      "source": [
        "# This Python 3 environment comes with many helpful analytics libraries installed\n",
        "# It is defined by the kaggle/python docker image: https://github.com/kaggle/docker-python\n",
        "# For example, here's several helpful packages to load in \n",
        "from google.colab import drive\n",
        "drive.mount('/content/drive')\n",
        "\n",
        "import math\n",
        "import numpy as np # linear algebra\n",
        "import pandas as pd # data processing, CSV file I/O (e.g. pd.read_csv)\n",
        "\n",
        "import matplotlib.pyplot as plt\n",
        "import seaborn as sns\n",
        "%matplotlib inline\n",
        "\n",
        "from sklearn.preprocessing import LabelEncoder\n",
        "from datetime import datetime\n",
        "import warnings\n",
        "warnings.simplefilter('ignore')\n",
        "plt.rcParams['figure.figsize'] = (15,7)\n",
        "\n",
        "# Загружаем специальный удобный инструмент для разделения датасета:\n",
        "from sklearn.model_selection import train_test_split"
      ],
      "execution_count": 102,
      "outputs": [
        {
          "output_type": "stream",
          "text": [
            "Drive already mounted at /content/drive; to attempt to forcibly remount, call drive.mount(\"/content/drive\", force_remount=True).\n"
          ],
          "name": "stdout"
        }
      ]
    },
    {
      "cell_type": "code",
      "metadata": {
        "id": "m0bWU_l5IK07"
      },
      "source": [
        "# всегда фиксируйте RANDOM_SEED, чтобы ваши эксперименты были воспроизводимы!\n",
        "RANDOM_SEED = 42"
      ],
      "execution_count": 33,
      "outputs": []
    },
    {
      "cell_type": "markdown",
      "metadata": {
        "id": "54kAB1umIK09"
      },
      "source": [
        "# DATA"
      ]
    },
    {
      "cell_type": "code",
      "metadata": {
        "_cell_guid": "79c7e3d0-c299-4dcb-8224-4455121ee9b0",
        "_uuid": "d629ff2d2480ee46fbb7e2d37f6b5fab8052498a",
        "id": "Twh3DgsbIK0-"
      },
      "source": [
        "DATA_DIR = '/content/drive/MyDrive/Colab Notebooks/module3'\n",
        "df_train = pd.read_csv(DATA_DIR+'/main_task.xls')\n",
        "df_test = pd.read_csv(DATA_DIR+'/kaggle_task.csv')\n",
        "sample_submission = pd.read_csv(DATA_DIR+'/sample_submission.csv')"
      ],
      "execution_count": 79,
      "outputs": []
    },
    {
      "cell_type": "code",
      "metadata": {
        "colab": {
          "base_uri": "https://localhost:8080/"
        },
        "id": "Tq-g4P99IK0-",
        "outputId": "22fefd05-f1bf-4795-fb1e-31a6cddf6436"
      },
      "source": [
        "df_train.info()"
      ],
      "execution_count": null,
      "outputs": [
        {
          "output_type": "stream",
          "text": [
            "<class 'pandas.core.frame.DataFrame'>\n",
            "RangeIndex: 40000 entries, 0 to 39999\n",
            "Data columns (total 10 columns):\n",
            " #   Column             Non-Null Count  Dtype  \n",
            "---  ------             --------------  -----  \n",
            " 0   Restaurant_id      40000 non-null  object \n",
            " 1   City               40000 non-null  object \n",
            " 2   Cuisine Style      30717 non-null  object \n",
            " 3   Ranking            40000 non-null  float64\n",
            " 4   Rating             40000 non-null  float64\n",
            " 5   Price Range        26114 non-null  object \n",
            " 6   Number of Reviews  37457 non-null  float64\n",
            " 7   Reviews            40000 non-null  object \n",
            " 8   URL_TA             40000 non-null  object \n",
            " 9   ID_TA              40000 non-null  object \n",
            "dtypes: float64(3), object(7)\n",
            "memory usage: 3.1+ MB\n"
          ],
          "name": "stdout"
        }
      ]
    },
    {
      "cell_type": "code",
      "metadata": {
        "colab": {
          "base_uri": "https://localhost:8080/",
          "height": 197
        },
        "id": "cJFbXCrXIK0_",
        "outputId": "1d7cc58b-0402-4702-9d5f-d4411f535dd9"
      },
      "source": [
        "df_train.head(5)"
      ],
      "execution_count": 42,
      "outputs": [
        {
          "output_type": "execute_result",
          "data": {
            "text/html": [
              "<div>\n",
              "<style scoped>\n",
              "    .dataframe tbody tr th:only-of-type {\n",
              "        vertical-align: middle;\n",
              "    }\n",
              "\n",
              "    .dataframe tbody tr th {\n",
              "        vertical-align: top;\n",
              "    }\n",
              "\n",
              "    .dataframe thead th {\n",
              "        text-align: right;\n",
              "    }\n",
              "</style>\n",
              "<table border=\"1\" class=\"dataframe\">\n",
              "  <thead>\n",
              "    <tr style=\"text-align: right;\">\n",
              "      <th></th>\n",
              "      <th>Restaurant_id</th>\n",
              "      <th>City</th>\n",
              "      <th>Cuisine Style</th>\n",
              "      <th>Ranking</th>\n",
              "      <th>Rating</th>\n",
              "      <th>Price Range</th>\n",
              "      <th>Number of Reviews</th>\n",
              "      <th>Reviews</th>\n",
              "      <th>URL_TA</th>\n",
              "      <th>ID_TA</th>\n",
              "    </tr>\n",
              "  </thead>\n",
              "  <tbody>\n",
              "    <tr>\n",
              "      <th>0</th>\n",
              "      <td>id_5569</td>\n",
              "      <td>Paris</td>\n",
              "      <td>['European', 'French', 'International']</td>\n",
              "      <td>5570.0</td>\n",
              "      <td>3.5</td>\n",
              "      <td>$$ - $$$</td>\n",
              "      <td>194.0</td>\n",
              "      <td>[['Good food at your doorstep', 'A good hotel ...</td>\n",
              "      <td>/Restaurant_Review-g187147-d1912643-Reviews-R_...</td>\n",
              "      <td>d1912643</td>\n",
              "    </tr>\n",
              "    <tr>\n",
              "      <th>1</th>\n",
              "      <td>id_1535</td>\n",
              "      <td>Stockholm</td>\n",
              "      <td>NaN</td>\n",
              "      <td>1537.0</td>\n",
              "      <td>4.0</td>\n",
              "      <td>NaN</td>\n",
              "      <td>10.0</td>\n",
              "      <td>[['Unique cuisine', 'Delicious Nepalese food']...</td>\n",
              "      <td>/Restaurant_Review-g189852-d7992032-Reviews-Bu...</td>\n",
              "      <td>d7992032</td>\n",
              "    </tr>\n",
              "    <tr>\n",
              "      <th>2</th>\n",
              "      <td>id_352</td>\n",
              "      <td>London</td>\n",
              "      <td>['Japanese', 'Sushi', 'Asian', 'Grill', 'Veget...</td>\n",
              "      <td>353.0</td>\n",
              "      <td>4.5</td>\n",
              "      <td>$$$$</td>\n",
              "      <td>688.0</td>\n",
              "      <td>[['Catch up with friends', 'Not exceptional'],...</td>\n",
              "      <td>/Restaurant_Review-g186338-d8632781-Reviews-RO...</td>\n",
              "      <td>d8632781</td>\n",
              "    </tr>\n",
              "    <tr>\n",
              "      <th>3</th>\n",
              "      <td>id_3456</td>\n",
              "      <td>Berlin</td>\n",
              "      <td>NaN</td>\n",
              "      <td>3458.0</td>\n",
              "      <td>5.0</td>\n",
              "      <td>NaN</td>\n",
              "      <td>3.0</td>\n",
              "      <td>[[], []]</td>\n",
              "      <td>/Restaurant_Review-g187323-d1358776-Reviews-Es...</td>\n",
              "      <td>d1358776</td>\n",
              "    </tr>\n",
              "    <tr>\n",
              "      <th>4</th>\n",
              "      <td>id_615</td>\n",
              "      <td>Munich</td>\n",
              "      <td>['German', 'Central European', 'Vegetarian Fri...</td>\n",
              "      <td>621.0</td>\n",
              "      <td>4.0</td>\n",
              "      <td>$$ - $$$</td>\n",
              "      <td>84.0</td>\n",
              "      <td>[['Best place to try a Bavarian food', 'Nice b...</td>\n",
              "      <td>/Restaurant_Review-g187309-d6864963-Reviews-Au...</td>\n",
              "      <td>d6864963</td>\n",
              "    </tr>\n",
              "  </tbody>\n",
              "</table>\n",
              "</div>"
            ],
            "text/plain": [
              "  Restaurant_id  ...     ID_TA\n",
              "0       id_5569  ...  d1912643\n",
              "1       id_1535  ...  d7992032\n",
              "2        id_352  ...  d8632781\n",
              "3       id_3456  ...  d1358776\n",
              "4        id_615  ...  d6864963\n",
              "\n",
              "[5 rows x 10 columns]"
            ]
          },
          "metadata": {
            "tags": []
          },
          "execution_count": 42
        }
      ]
    },
    {
      "cell_type": "code",
      "metadata": {
        "colab": {
          "base_uri": "https://localhost:8080/"
        },
        "id": "6eLrjMRWIK1A",
        "outputId": "83796341-6927-45cd-d43c-fb748aa3f612"
      },
      "source": [
        "df_test.info()"
      ],
      "execution_count": null,
      "outputs": [
        {
          "output_type": "stream",
          "text": [
            "<class 'pandas.core.frame.DataFrame'>\n",
            "RangeIndex: 10000 entries, 0 to 9999\n",
            "Data columns (total 9 columns):\n",
            " #   Column             Non-Null Count  Dtype  \n",
            "---  ------             --------------  -----  \n",
            " 0   Restaurant_id      10000 non-null  object \n",
            " 1   City               10000 non-null  object \n",
            " 2   Cuisine Style      7693 non-null   object \n",
            " 3   Ranking            10000 non-null  float64\n",
            " 4   Price Range        6525 non-null   object \n",
            " 5   Number of Reviews  9343 non-null   float64\n",
            " 6   Reviews            9998 non-null   object \n",
            " 7   URL_TA             10000 non-null  object \n",
            " 8   ID_TA              10000 non-null  object \n",
            "dtypes: float64(2), object(7)\n",
            "memory usage: 703.2+ KB\n"
          ],
          "name": "stdout"
        }
      ]
    },
    {
      "cell_type": "code",
      "metadata": {
        "colab": {
          "base_uri": "https://localhost:8080/",
          "height": 197
        },
        "id": "DW9OGEz6IK1B",
        "outputId": "ff538107-b404-40e6-9f2b-1dd0e02f5b1f"
      },
      "source": [
        "df_test.head(5)"
      ],
      "execution_count": null,
      "outputs": [
        {
          "output_type": "execute_result",
          "data": {
            "text/html": [
              "<div>\n",
              "<style scoped>\n",
              "    .dataframe tbody tr th:only-of-type {\n",
              "        vertical-align: middle;\n",
              "    }\n",
              "\n",
              "    .dataframe tbody tr th {\n",
              "        vertical-align: top;\n",
              "    }\n",
              "\n",
              "    .dataframe thead th {\n",
              "        text-align: right;\n",
              "    }\n",
              "</style>\n",
              "<table border=\"1\" class=\"dataframe\">\n",
              "  <thead>\n",
              "    <tr style=\"text-align: right;\">\n",
              "      <th></th>\n",
              "      <th>Restaurant_id</th>\n",
              "      <th>City</th>\n",
              "      <th>Cuisine Style</th>\n",
              "      <th>Ranking</th>\n",
              "      <th>Price Range</th>\n",
              "      <th>Number of Reviews</th>\n",
              "      <th>Reviews</th>\n",
              "      <th>URL_TA</th>\n",
              "      <th>ID_TA</th>\n",
              "    </tr>\n",
              "  </thead>\n",
              "  <tbody>\n",
              "    <tr>\n",
              "      <th>0</th>\n",
              "      <td>id_0</td>\n",
              "      <td>Paris</td>\n",
              "      <td>['Bar', 'Pub']</td>\n",
              "      <td>12963.0</td>\n",
              "      <td>$$ - $$$</td>\n",
              "      <td>4.0</td>\n",
              "      <td>[[], []]</td>\n",
              "      <td>/Restaurant_Review-g187147-d10746918-Reviews-L...</td>\n",
              "      <td>d10746918</td>\n",
              "    </tr>\n",
              "    <tr>\n",
              "      <th>1</th>\n",
              "      <td>id_1</td>\n",
              "      <td>Helsinki</td>\n",
              "      <td>['European', 'Scandinavian', 'Gluten Free Opti...</td>\n",
              "      <td>106.0</td>\n",
              "      <td>$$ - $$$</td>\n",
              "      <td>97.0</td>\n",
              "      <td>[['Very good reviews!', 'Fine dining in Hakani...</td>\n",
              "      <td>/Restaurant_Review-g189934-d6674944-Reviews-Ra...</td>\n",
              "      <td>d6674944</td>\n",
              "    </tr>\n",
              "    <tr>\n",
              "      <th>2</th>\n",
              "      <td>id_2</td>\n",
              "      <td>Edinburgh</td>\n",
              "      <td>['Vegetarian Friendly']</td>\n",
              "      <td>810.0</td>\n",
              "      <td>$$ - $$$</td>\n",
              "      <td>28.0</td>\n",
              "      <td>[['Better than the Links', 'Ivy Black'], ['12/...</td>\n",
              "      <td>/Restaurant_Review-g186525-d13129638-Reviews-B...</td>\n",
              "      <td>d13129638</td>\n",
              "    </tr>\n",
              "    <tr>\n",
              "      <th>3</th>\n",
              "      <td>id_3</td>\n",
              "      <td>London</td>\n",
              "      <td>['Italian', 'Mediterranean', 'European', 'Vege...</td>\n",
              "      <td>1669.0</td>\n",
              "      <td>$$$$</td>\n",
              "      <td>202.0</td>\n",
              "      <td>[['Most exquisite', 'Delicious and authentic']...</td>\n",
              "      <td>/Restaurant_Review-g186338-d680417-Reviews-Qui...</td>\n",
              "      <td>d680417</td>\n",
              "    </tr>\n",
              "    <tr>\n",
              "      <th>4</th>\n",
              "      <td>id_4</td>\n",
              "      <td>Bratislava</td>\n",
              "      <td>['Italian', 'Mediterranean', 'European', 'Seaf...</td>\n",
              "      <td>37.0</td>\n",
              "      <td>$$$$</td>\n",
              "      <td>162.0</td>\n",
              "      <td>[['Always the best in bratislava', 'Very good ...</td>\n",
              "      <td>/Restaurant_Review-g274924-d1112354-Reviews-Ma...</td>\n",
              "      <td>d1112354</td>\n",
              "    </tr>\n",
              "  </tbody>\n",
              "</table>\n",
              "</div>"
            ],
            "text/plain": [
              "  Restaurant_id  ...      ID_TA\n",
              "0          id_0  ...  d10746918\n",
              "1          id_1  ...   d6674944\n",
              "2          id_2  ...  d13129638\n",
              "3          id_3  ...    d680417\n",
              "4          id_4  ...   d1112354\n",
              "\n",
              "[5 rows x 9 columns]"
            ]
          },
          "metadata": {
            "tags": []
          },
          "execution_count": 7
        }
      ]
    },
    {
      "cell_type": "code",
      "metadata": {
        "colab": {
          "base_uri": "https://localhost:8080/",
          "height": 197
        },
        "id": "-HuJzZePIK1C",
        "outputId": "7a7c40f4-43ce-494e-ebd1-f0cfeb7bf622"
      },
      "source": [
        "sample_submission.head(5)"
      ],
      "execution_count": null,
      "outputs": [
        {
          "output_type": "execute_result",
          "data": {
            "text/html": [
              "<div>\n",
              "<style scoped>\n",
              "    .dataframe tbody tr th:only-of-type {\n",
              "        vertical-align: middle;\n",
              "    }\n",
              "\n",
              "    .dataframe tbody tr th {\n",
              "        vertical-align: top;\n",
              "    }\n",
              "\n",
              "    .dataframe thead th {\n",
              "        text-align: right;\n",
              "    }\n",
              "</style>\n",
              "<table border=\"1\" class=\"dataframe\">\n",
              "  <thead>\n",
              "    <tr style=\"text-align: right;\">\n",
              "      <th></th>\n",
              "      <th>Restaurant_id</th>\n",
              "      <th>Rating</th>\n",
              "    </tr>\n",
              "  </thead>\n",
              "  <tbody>\n",
              "    <tr>\n",
              "      <th>0</th>\n",
              "      <td>id_0</td>\n",
              "      <td>2.0</td>\n",
              "    </tr>\n",
              "    <tr>\n",
              "      <th>1</th>\n",
              "      <td>id_1</td>\n",
              "      <td>2.5</td>\n",
              "    </tr>\n",
              "    <tr>\n",
              "      <th>2</th>\n",
              "      <td>id_2</td>\n",
              "      <td>4.0</td>\n",
              "    </tr>\n",
              "    <tr>\n",
              "      <th>3</th>\n",
              "      <td>id_3</td>\n",
              "      <td>1.0</td>\n",
              "    </tr>\n",
              "    <tr>\n",
              "      <th>4</th>\n",
              "      <td>id_4</td>\n",
              "      <td>4.0</td>\n",
              "    </tr>\n",
              "  </tbody>\n",
              "</table>\n",
              "</div>"
            ],
            "text/plain": [
              "  Restaurant_id  Rating\n",
              "0          id_0     2.0\n",
              "1          id_1     2.5\n",
              "2          id_2     4.0\n",
              "3          id_3     1.0\n",
              "4          id_4     4.0"
            ]
          },
          "metadata": {
            "tags": []
          },
          "execution_count": 8
        }
      ]
    },
    {
      "cell_type": "code",
      "metadata": {
        "colab": {
          "base_uri": "https://localhost:8080/"
        },
        "id": "oIuECS9qIK1C",
        "outputId": "ec08a598-41bd-44e9-916b-83a66aff1520"
      },
      "source": [
        "sample_submission.info()"
      ],
      "execution_count": null,
      "outputs": [
        {
          "output_type": "stream",
          "text": [
            "<class 'pandas.core.frame.DataFrame'>\n",
            "RangeIndex: 10000 entries, 0 to 9999\n",
            "Data columns (total 2 columns):\n",
            " #   Column         Non-Null Count  Dtype  \n",
            "---  ------         --------------  -----  \n",
            " 0   Restaurant_id  10000 non-null  object \n",
            " 1   Rating         10000 non-null  float64\n",
            "dtypes: float64(1), object(1)\n",
            "memory usage: 156.4+ KB\n"
          ],
          "name": "stdout"
        }
      ]
    },
    {
      "cell_type": "code",
      "metadata": {
        "id": "U-M7BwvuIK1D"
      },
      "source": [
        "# ВАЖНО! дря корректной обработки признаков объединяем трейн и тест в один датасет\n",
        "df_train['sample'] = 1 # помечаем где у нас трейн\n",
        "df_test['sample'] = 0 # помечаем где у нас тест\n",
        "df_test['Rating'] = 0 # в тесте у нас нет значения Rating, мы его должны предсказать, по этому пока просто заполняем нулями\n",
        "\n",
        "data = df_test.append(df_train, sort=False).reset_index(drop=True) # объединяем"
      ],
      "execution_count": 80,
      "outputs": []
    },
    {
      "cell_type": "code",
      "metadata": {
        "colab": {
          "base_uri": "https://localhost:8080/"
        },
        "id": "T-vr31g3IK1D",
        "outputId": "dcb2b894-92bb-434f-b573-54af453c29af"
      },
      "source": [
        "data.info()"
      ],
      "execution_count": null,
      "outputs": [
        {
          "output_type": "stream",
          "text": [
            "<class 'pandas.core.frame.DataFrame'>\n",
            "RangeIndex: 50000 entries, 0 to 49999\n",
            "Data columns (total 11 columns):\n",
            " #   Column             Non-Null Count  Dtype  \n",
            "---  ------             --------------  -----  \n",
            " 0   Restaurant_id      50000 non-null  object \n",
            " 1   City               50000 non-null  object \n",
            " 2   Cuisine Style      38410 non-null  object \n",
            " 3   Ranking            50000 non-null  float64\n",
            " 4   Price Range        32639 non-null  object \n",
            " 5   Number of Reviews  46800 non-null  float64\n",
            " 6   Reviews            49998 non-null  object \n",
            " 7   URL_TA             50000 non-null  object \n",
            " 8   ID_TA              50000 non-null  object \n",
            " 9   sample             50000 non-null  int64  \n",
            " 10  Rating             50000 non-null  float64\n",
            "dtypes: float64(3), int64(1), object(7)\n",
            "memory usage: 4.2+ MB\n"
          ],
          "name": "stdout"
        }
      ]
    },
    {
      "cell_type": "code",
      "metadata": {
        "colab": {
          "base_uri": "https://localhost:8080/",
          "height": 287
        },
        "id": "kD2rrlZuFe_l",
        "outputId": "a91b04a1-2e99-4074-d7a8-9808d9092318"
      },
      "source": [
        "data.describe()"
      ],
      "execution_count": 55,
      "outputs": [
        {
          "output_type": "execute_result",
          "data": {
            "text/html": [
              "<div>\n",
              "<style scoped>\n",
              "    .dataframe tbody tr th:only-of-type {\n",
              "        vertical-align: middle;\n",
              "    }\n",
              "\n",
              "    .dataframe tbody tr th {\n",
              "        vertical-align: top;\n",
              "    }\n",
              "\n",
              "    .dataframe thead th {\n",
              "        text-align: right;\n",
              "    }\n",
              "</style>\n",
              "<table border=\"1\" class=\"dataframe\">\n",
              "  <thead>\n",
              "    <tr style=\"text-align: right;\">\n",
              "      <th></th>\n",
              "      <th>Ranking</th>\n",
              "      <th>Number of Reviews</th>\n",
              "      <th>sample</th>\n",
              "      <th>Rating</th>\n",
              "    </tr>\n",
              "  </thead>\n",
              "  <tbody>\n",
              "    <tr>\n",
              "      <th>count</th>\n",
              "      <td>50000.000000</td>\n",
              "      <td>46800.000000</td>\n",
              "      <td>50000.000000</td>\n",
              "      <td>50000.000000</td>\n",
              "    </tr>\n",
              "    <tr>\n",
              "      <th>mean</th>\n",
              "      <td>3664.427520</td>\n",
              "      <td>124.471197</td>\n",
              "      <td>0.800000</td>\n",
              "      <td>3.194430</td>\n",
              "    </tr>\n",
              "    <tr>\n",
              "      <th>std</th>\n",
              "      <td>3700.092452</td>\n",
              "      <td>294.114345</td>\n",
              "      <td>0.400004</td>\n",
              "      <td>1.705453</td>\n",
              "    </tr>\n",
              "    <tr>\n",
              "      <th>min</th>\n",
              "      <td>1.000000</td>\n",
              "      <td>2.000000</td>\n",
              "      <td>0.000000</td>\n",
              "      <td>0.000000</td>\n",
              "    </tr>\n",
              "    <tr>\n",
              "      <th>25%</th>\n",
              "      <td>972.000000</td>\n",
              "      <td>9.000000</td>\n",
              "      <td>1.000000</td>\n",
              "      <td>3.000000</td>\n",
              "    </tr>\n",
              "    <tr>\n",
              "      <th>50%</th>\n",
              "      <td>2278.000000</td>\n",
              "      <td>33.000000</td>\n",
              "      <td>1.000000</td>\n",
              "      <td>4.000000</td>\n",
              "    </tr>\n",
              "    <tr>\n",
              "      <th>75%</th>\n",
              "      <td>5241.000000</td>\n",
              "      <td>115.000000</td>\n",
              "      <td>1.000000</td>\n",
              "      <td>4.500000</td>\n",
              "    </tr>\n",
              "    <tr>\n",
              "      <th>max</th>\n",
              "      <td>16444.000000</td>\n",
              "      <td>9660.000000</td>\n",
              "      <td>1.000000</td>\n",
              "      <td>5.000000</td>\n",
              "    </tr>\n",
              "  </tbody>\n",
              "</table>\n",
              "</div>"
            ],
            "text/plain": [
              "            Ranking  Number of Reviews        sample        Rating\n",
              "count  50000.000000       46800.000000  50000.000000  50000.000000\n",
              "mean    3664.427520         124.471197      0.800000      3.194430\n",
              "std     3700.092452         294.114345      0.400004      1.705453\n",
              "min        1.000000           2.000000      0.000000      0.000000\n",
              "25%      972.000000           9.000000      1.000000      3.000000\n",
              "50%     2278.000000          33.000000      1.000000      4.000000\n",
              "75%     5241.000000         115.000000      1.000000      4.500000\n",
              "max    16444.000000        9660.000000      1.000000      5.000000"
            ]
          },
          "metadata": {
            "tags": []
          },
          "execution_count": 55
        }
      ]
    },
    {
      "cell_type": "markdown",
      "metadata": {
        "id": "X2XyrD4CIK1E"
      },
      "source": [
        "Подробнее по признакам:\n",
        "* City: Город \n",
        "* Cuisine Style: Кухня\n",
        "* Ranking: Ранг ресторана относительно других ресторанов в этом городе\n",
        "* Price Range: Цены в ресторане в 3 категориях\n",
        "* Number of Reviews: Количество отзывов\n",
        "* Reviews: 2 последних отзыва и даты этих отзывов\n",
        "* URL_TA: страница ресторана на 'www.tripadvisor.com' \n",
        "* ID_TA: ID ресторана в TripAdvisor\n",
        "* Rating: Рейтинг ресторана"
      ]
    },
    {
      "cell_type": "code",
      "metadata": {
        "colab": {
          "base_uri": "https://localhost:8080/",
          "height": 197
        },
        "id": "EbhI5Z6tIK1E",
        "outputId": "f8b53ff5-3757-4afe-b37b-f0a112fdf40c"
      },
      "source": [
        "data.sample(5)"
      ],
      "execution_count": null,
      "outputs": [
        {
          "output_type": "execute_result",
          "data": {
            "text/html": [
              "<div>\n",
              "<style scoped>\n",
              "    .dataframe tbody tr th:only-of-type {\n",
              "        vertical-align: middle;\n",
              "    }\n",
              "\n",
              "    .dataframe tbody tr th {\n",
              "        vertical-align: top;\n",
              "    }\n",
              "\n",
              "    .dataframe thead th {\n",
              "        text-align: right;\n",
              "    }\n",
              "</style>\n",
              "<table border=\"1\" class=\"dataframe\">\n",
              "  <thead>\n",
              "    <tr style=\"text-align: right;\">\n",
              "      <th></th>\n",
              "      <th>Restaurant_id</th>\n",
              "      <th>City</th>\n",
              "      <th>Cuisine Style</th>\n",
              "      <th>Ranking</th>\n",
              "      <th>Price Range</th>\n",
              "      <th>Number of Reviews</th>\n",
              "      <th>Reviews</th>\n",
              "      <th>URL_TA</th>\n",
              "      <th>ID_TA</th>\n",
              "      <th>sample</th>\n",
              "      <th>Rating</th>\n",
              "    </tr>\n",
              "  </thead>\n",
              "  <tbody>\n",
              "    <tr>\n",
              "      <th>10976</th>\n",
              "      <td>id_15748</td>\n",
              "      <td>London</td>\n",
              "      <td>['Fast Food', 'American']</td>\n",
              "      <td>15760.0</td>\n",
              "      <td>$</td>\n",
              "      <td>31.0</td>\n",
              "      <td>[['Small fast food joint in the station', 'Lik...</td>\n",
              "      <td>/Restaurant_Review-g186338-d4584798-Reviews-Bu...</td>\n",
              "      <td>d4584798</td>\n",
              "      <td>1</td>\n",
              "      <td>3.0</td>\n",
              "    </tr>\n",
              "    <tr>\n",
              "      <th>12033</th>\n",
              "      <td>id_2330</td>\n",
              "      <td>Munich</td>\n",
              "      <td>NaN</td>\n",
              "      <td>2346.0</td>\n",
              "      <td>NaN</td>\n",
              "      <td>23.0</td>\n",
              "      <td>[['Very reasonable in terms of pricing and fr....</td>\n",
              "      <td>/Restaurant_Review-g187309-d5519135-Reviews-Be...</td>\n",
              "      <td>d5519135</td>\n",
              "      <td>1</td>\n",
              "      <td>3.5</td>\n",
              "    </tr>\n",
              "    <tr>\n",
              "      <th>14716</th>\n",
              "      <td>id_6051</td>\n",
              "      <td>Madrid</td>\n",
              "      <td>['Russian']</td>\n",
              "      <td>6054.0</td>\n",
              "      <td>$$$$</td>\n",
              "      <td>15.0</td>\n",
              "      <td>[[], []]</td>\n",
              "      <td>/Restaurant_Review-g187514-d1992937-Reviews-19...</td>\n",
              "      <td>d1992937</td>\n",
              "      <td>1</td>\n",
              "      <td>4.0</td>\n",
              "    </tr>\n",
              "    <tr>\n",
              "      <th>38540</th>\n",
              "      <td>id_8784</td>\n",
              "      <td>Paris</td>\n",
              "      <td>['European', 'French', 'Vegetarian Friendly']</td>\n",
              "      <td>8786.0</td>\n",
              "      <td>$$ - $$$</td>\n",
              "      <td>40.0</td>\n",
              "      <td>[['Come for drinks only', 'Lunch during museum...</td>\n",
              "      <td>/Restaurant_Review-g187147-d8450883-Reviews-Ge...</td>\n",
              "      <td>d8450883</td>\n",
              "      <td>1</td>\n",
              "      <td>3.5</td>\n",
              "    </tr>\n",
              "    <tr>\n",
              "      <th>27048</th>\n",
              "      <td>id_465</td>\n",
              "      <td>Milan</td>\n",
              "      <td>['Italian', 'Vegetarian Friendly', 'Vegan Opti...</td>\n",
              "      <td>466.0</td>\n",
              "      <td>$</td>\n",
              "      <td>160.0</td>\n",
              "      <td>[['A truly AMAZING little gem in Milan !', 'Ex...</td>\n",
              "      <td>/Restaurant_Review-g187849-d4008200-Reviews-Pa...</td>\n",
              "      <td>d4008200</td>\n",
              "      <td>1</td>\n",
              "      <td>4.5</td>\n",
              "    </tr>\n",
              "  </tbody>\n",
              "</table>\n",
              "</div>"
            ],
            "text/plain": [
              "      Restaurant_id    City  ... sample  Rating\n",
              "10976      id_15748  London  ...      1     3.0\n",
              "12033       id_2330  Munich  ...      1     3.5\n",
              "14716       id_6051  Madrid  ...      1     4.0\n",
              "38540       id_8784   Paris  ...      1     3.5\n",
              "27048        id_465   Milan  ...      1     4.5\n",
              "\n",
              "[5 rows x 11 columns]"
            ]
          },
          "metadata": {
            "tags": []
          },
          "execution_count": 13
        }
      ]
    },
    {
      "cell_type": "code",
      "metadata": {
        "colab": {
          "base_uri": "https://localhost:8080/",
          "height": 35
        },
        "id": "6rfJ-w__IK1F",
        "outputId": "406947d9-8d1e-4c69-aab4-378e7014321f"
      },
      "source": [
        "data.Reviews[1]"
      ],
      "execution_count": null,
      "outputs": [
        {
          "output_type": "execute_result",
          "data": {
            "application/vnd.google.colaboratory.intrinsic+json": {
              "type": "string"
            },
            "text/plain": [
              "\"[['Very good reviews!', 'Fine dining in Hakaniemi'], ['12/05/2017', '10/29/2017']]\""
            ]
          },
          "metadata": {
            "tags": []
          },
          "execution_count": 14
        }
      ]
    },
    {
      "cell_type": "markdown",
      "metadata": {
        "id": "E-EIpKamIK1G"
      },
      "source": [
        "Как видим, большинство признаков у нас требует очистки и предварительной обработки."
      ]
    },
    {
      "cell_type": "markdown",
      "metadata": {
        "id": "ZZbNjtTkeCQg"
      },
      "source": [
        "# Общие функции\n"
      ]
    },
    {
      "cell_type": "markdown",
      "metadata": {
        "id": "Ixq3PDizeVwJ"
      },
      "source": [
        "Округление предсказанных оценок до кратности 0.5"
      ]
    },
    {
      "cell_type": "code",
      "metadata": {
        "id": "cPqJQpvBeiue"
      },
      "source": [
        "def round_pred(y_pred):\n",
        "    return [(round(y / 0.5) * 0.5) for y in y_pred]"
      ],
      "execution_count": 81,
      "outputs": []
    },
    {
      "cell_type": "markdown",
      "metadata": {
        "id": "XIO2HgRkZx2G"
      },
      "source": [
        "# Обработка значений столбцов"
      ]
    },
    {
      "cell_type": "markdown",
      "metadata": {
        "id": "utNUXyg6aA5Y"
      },
      "source": [
        "## Значения столбцов ID_TA и URL_TA не представляют ценности при дальнейшем анализе, так как это системные данные. Но перед удалением можно попробовать найти дубликаты данных"
      ]
    },
    {
      "cell_type": "code",
      "metadata": {
        "colab": {
          "base_uri": "https://localhost:8080/"
        },
        "id": "y7NWlqHQapTV",
        "outputId": "f4ca3ae4-55a5-449b-e2c6-e9a91576b072"
      },
      "source": [
        "df_sample = data[data['sample'] == 1]\n",
        "len(df_sample['ID_TA']) - df_sample['ID_TA'].nunique()"
      ],
      "execution_count": 82,
      "outputs": [
        {
          "output_type": "execute_result",
          "data": {
            "text/plain": [
              "20"
            ]
          },
          "metadata": {
            "tags": []
          },
          "execution_count": 82
        }
      ]
    },
    {
      "cell_type": "markdown",
      "metadata": {
        "id": "2WxGFUoFa1th"
      },
      "source": [
        "20 дубликатов. Посмотрим на данные"
      ]
    },
    {
      "cell_type": "code",
      "metadata": {
        "colab": {
          "base_uri": "https://localhost:8080/",
          "height": 1000
        },
        "id": "SMAZ6Sp9a-Xk",
        "outputId": "559563c6-7d4d-439f-c28c-23db4df3208f"
      },
      "source": [
        "ta_ids = df_sample['ID_TA'].value_counts()\n",
        "\n",
        "non_unique_ta = df_sample[df_sample['ID_TA'].apply(lambda x: (ta_ids[x] > 1))]\n",
        "non_unique_ta.sort_values(by=['ID_TA'])"
      ],
      "execution_count": 83,
      "outputs": [
        {
          "output_type": "execute_result",
          "data": {
            "text/html": [
              "<div>\n",
              "<style scoped>\n",
              "    .dataframe tbody tr th:only-of-type {\n",
              "        vertical-align: middle;\n",
              "    }\n",
              "\n",
              "    .dataframe tbody tr th {\n",
              "        vertical-align: top;\n",
              "    }\n",
              "\n",
              "    .dataframe thead th {\n",
              "        text-align: right;\n",
              "    }\n",
              "</style>\n",
              "<table border=\"1\" class=\"dataframe\">\n",
              "  <thead>\n",
              "    <tr style=\"text-align: right;\">\n",
              "      <th></th>\n",
              "      <th>Restaurant_id</th>\n",
              "      <th>City</th>\n",
              "      <th>Cuisine Style</th>\n",
              "      <th>Ranking</th>\n",
              "      <th>Price Range</th>\n",
              "      <th>Number of Reviews</th>\n",
              "      <th>Reviews</th>\n",
              "      <th>URL_TA</th>\n",
              "      <th>ID_TA</th>\n",
              "      <th>sample</th>\n",
              "      <th>Rating</th>\n",
              "    </tr>\n",
              "  </thead>\n",
              "  <tbody>\n",
              "    <tr>\n",
              "      <th>48946</th>\n",
              "      <td>id_3242</td>\n",
              "      <td>Madrid</td>\n",
              "      <td>NaN</td>\n",
              "      <td>3244.0</td>\n",
              "      <td>NaN</td>\n",
              "      <td>13.0</td>\n",
              "      <td>[[], []]</td>\n",
              "      <td>/Restaurant_Review-g187514-d10047799-Reviews-E...</td>\n",
              "      <td>d10047799</td>\n",
              "      <td>1</td>\n",
              "      <td>5.0</td>\n",
              "    </tr>\n",
              "    <tr>\n",
              "      <th>23980</th>\n",
              "      <td>id_3239</td>\n",
              "      <td>Madrid</td>\n",
              "      <td>NaN</td>\n",
              "      <td>3241.0</td>\n",
              "      <td>NaN</td>\n",
              "      <td>13.0</td>\n",
              "      <td>[[], []]</td>\n",
              "      <td>/Restaurant_Review-g187514-d10047799-Reviews-E...</td>\n",
              "      <td>d10047799</td>\n",
              "      <td>1</td>\n",
              "      <td>5.0</td>\n",
              "    </tr>\n",
              "    <tr>\n",
              "      <th>21583</th>\n",
              "      <td>id_3810</td>\n",
              "      <td>Madrid</td>\n",
              "      <td>['American', 'German', 'European', 'Central Eu...</td>\n",
              "      <td>3812.0</td>\n",
              "      <td>NaN</td>\n",
              "      <td>8.0</td>\n",
              "      <td>[[], []]</td>\n",
              "      <td>/Restaurant_Review-g187514-d11674463-Reviews-B...</td>\n",
              "      <td>d11674463</td>\n",
              "      <td>1</td>\n",
              "      <td>4.0</td>\n",
              "    </tr>\n",
              "    <tr>\n",
              "      <th>14732</th>\n",
              "      <td>id_3804</td>\n",
              "      <td>Madrid</td>\n",
              "      <td>['American', 'German', 'European', 'Central Eu...</td>\n",
              "      <td>3806.0</td>\n",
              "      <td>NaN</td>\n",
              "      <td>8.0</td>\n",
              "      <td>[[], []]</td>\n",
              "      <td>/Restaurant_Review-g187514-d11674463-Reviews-B...</td>\n",
              "      <td>d11674463</td>\n",
              "      <td>1</td>\n",
              "      <td>4.0</td>\n",
              "    </tr>\n",
              "    <tr>\n",
              "      <th>36551</th>\n",
              "      <td>id_3240</td>\n",
              "      <td>Madrid</td>\n",
              "      <td>NaN</td>\n",
              "      <td>3242.0</td>\n",
              "      <td>NaN</td>\n",
              "      <td>7.0</td>\n",
              "      <td>[[], []]</td>\n",
              "      <td>/Restaurant_Review-g187514-d11698990-Reviews-V...</td>\n",
              "      <td>d11698990</td>\n",
              "      <td>1</td>\n",
              "      <td>4.5</td>\n",
              "    </tr>\n",
              "    <tr>\n",
              "      <th>36431</th>\n",
              "      <td>id_3238</td>\n",
              "      <td>Madrid</td>\n",
              "      <td>NaN</td>\n",
              "      <td>3240.0</td>\n",
              "      <td>NaN</td>\n",
              "      <td>7.0</td>\n",
              "      <td>[[], []]</td>\n",
              "      <td>/Restaurant_Review-g187514-d11698990-Reviews-V...</td>\n",
              "      <td>d11698990</td>\n",
              "      <td>1</td>\n",
              "      <td>4.5</td>\n",
              "    </tr>\n",
              "    <tr>\n",
              "      <th>20819</th>\n",
              "      <td>id_2197</td>\n",
              "      <td>Madrid</td>\n",
              "      <td>NaN</td>\n",
              "      <td>2199.0</td>\n",
              "      <td>NaN</td>\n",
              "      <td>16.0</td>\n",
              "      <td>[[], []]</td>\n",
              "      <td>/Restaurant_Review-g187514-d11921719-Reviews-C...</td>\n",
              "      <td>d11921719</td>\n",
              "      <td>1</td>\n",
              "      <td>4.5</td>\n",
              "    </tr>\n",
              "    <tr>\n",
              "      <th>22628</th>\n",
              "      <td>id_2329</td>\n",
              "      <td>Madrid</td>\n",
              "      <td>NaN</td>\n",
              "      <td>2331.0</td>\n",
              "      <td>NaN</td>\n",
              "      <td>16.0</td>\n",
              "      <td>[[], []]</td>\n",
              "      <td>/Restaurant_Review-g187514-d11921719-Reviews-C...</td>\n",
              "      <td>d11921719</td>\n",
              "      <td>1</td>\n",
              "      <td>4.5</td>\n",
              "    </tr>\n",
              "    <tr>\n",
              "      <th>39879</th>\n",
              "      <td>id_3662</td>\n",
              "      <td>Madrid</td>\n",
              "      <td>['International', 'Mediterranean', 'Spanish', ...</td>\n",
              "      <td>3664.0</td>\n",
              "      <td>$$ - $$$</td>\n",
              "      <td>52.0</td>\n",
              "      <td>[['Great Food! Wide Variety.', 'Dinner'], ['11...</td>\n",
              "      <td>/Restaurant_Review-g187514-d11999956-Reviews-S...</td>\n",
              "      <td>d11999956</td>\n",
              "      <td>1</td>\n",
              "      <td>4.0</td>\n",
              "    </tr>\n",
              "    <tr>\n",
              "      <th>26920</th>\n",
              "      <td>id_3536</td>\n",
              "      <td>Madrid</td>\n",
              "      <td>['International', 'Mediterranean', 'Spanish', ...</td>\n",
              "      <td>3538.0</td>\n",
              "      <td>$$ - $$$</td>\n",
              "      <td>52.0</td>\n",
              "      <td>[['Great Food! Wide Variety.', 'Dinner'], ['11...</td>\n",
              "      <td>/Restaurant_Review-g187514-d11999956-Reviews-S...</td>\n",
              "      <td>d11999956</td>\n",
              "      <td>1</td>\n",
              "      <td>4.0</td>\n",
              "    </tr>\n",
              "    <tr>\n",
              "      <th>36696</th>\n",
              "      <td>id_2485</td>\n",
              "      <td>Madrid</td>\n",
              "      <td>['American']</td>\n",
              "      <td>2487.0</td>\n",
              "      <td>$</td>\n",
              "      <td>6.0</td>\n",
              "      <td>[['Healthy vegan doughnuts are posible', 'Best...</td>\n",
              "      <td>/Restaurant_Review-g187514-d13002276-Reviews-D...</td>\n",
              "      <td>d13002276</td>\n",
              "      <td>1</td>\n",
              "      <td>5.0</td>\n",
              "    </tr>\n",
              "    <tr>\n",
              "      <th>11579</th>\n",
              "      <td>id_2673</td>\n",
              "      <td>Madrid</td>\n",
              "      <td>['American']</td>\n",
              "      <td>2675.0</td>\n",
              "      <td>$</td>\n",
              "      <td>6.0</td>\n",
              "      <td>[['Healthy vegan doughnuts are posible', 'Best...</td>\n",
              "      <td>/Restaurant_Review-g187514-d13002276-Reviews-D...</td>\n",
              "      <td>d13002276</td>\n",
              "      <td>1</td>\n",
              "      <td>5.0</td>\n",
              "    </tr>\n",
              "    <tr>\n",
              "      <th>20439</th>\n",
              "      <td>id_468</td>\n",
              "      <td>Madrid</td>\n",
              "      <td>['Mediterranean', 'Spanish', 'Vegetarian Frien...</td>\n",
              "      <td>469.0</td>\n",
              "      <td>$$ - $$$</td>\n",
              "      <td>355.0</td>\n",
              "      <td>[['Very good all around', 'Our first Madrid re...</td>\n",
              "      <td>/Restaurant_Review-g187514-d1315077-Reviews-El...</td>\n",
              "      <td>d1315077</td>\n",
              "      <td>1</td>\n",
              "      <td>4.0</td>\n",
              "    </tr>\n",
              "    <tr>\n",
              "      <th>35785</th>\n",
              "      <td>id_511</td>\n",
              "      <td>Madrid</td>\n",
              "      <td>['Mediterranean', 'Spanish', 'Vegetarian Frien...</td>\n",
              "      <td>512.0</td>\n",
              "      <td>$$ - $$$</td>\n",
              "      <td>355.0</td>\n",
              "      <td>[['Very good all around', 'Our first Madrid re...</td>\n",
              "      <td>/Restaurant_Review-g187514-d1315077-Reviews-El...</td>\n",
              "      <td>d1315077</td>\n",
              "      <td>1</td>\n",
              "      <td>4.0</td>\n",
              "    </tr>\n",
              "    <tr>\n",
              "      <th>18421</th>\n",
              "      <td>id_3811</td>\n",
              "      <td>Madrid</td>\n",
              "      <td>['Spanish']</td>\n",
              "      <td>3813.0</td>\n",
              "      <td>$</td>\n",
              "      <td>23.0</td>\n",
              "      <td>[['Happened to drop in', 'Right for a quick bi...</td>\n",
              "      <td>/Restaurant_Review-g187514-d2477531-Reviews-Ha...</td>\n",
              "      <td>d2477531</td>\n",
              "      <td>1</td>\n",
              "      <td>4.0</td>\n",
              "    </tr>\n",
              "    <tr>\n",
              "      <th>34545</th>\n",
              "      <td>id_3805</td>\n",
              "      <td>Madrid</td>\n",
              "      <td>['Spanish']</td>\n",
              "      <td>3807.0</td>\n",
              "      <td>$</td>\n",
              "      <td>23.0</td>\n",
              "      <td>[['Happened to drop in', 'Right for a quick bi...</td>\n",
              "      <td>/Restaurant_Review-g187514-d2477531-Reviews-Ha...</td>\n",
              "      <td>d2477531</td>\n",
              "      <td>1</td>\n",
              "      <td>4.0</td>\n",
              "    </tr>\n",
              "    <tr>\n",
              "      <th>35251</th>\n",
              "      <td>id_3575</td>\n",
              "      <td>Madrid</td>\n",
              "      <td>['Spanish', 'Bar']</td>\n",
              "      <td>3577.0</td>\n",
              "      <td>$</td>\n",
              "      <td>217.0</td>\n",
              "      <td>[['Thursday snack', 'Good value for money &amp; go...</td>\n",
              "      <td>/Restaurant_Review-g187514-d3161682-Reviews-Ce...</td>\n",
              "      <td>d3161682</td>\n",
              "      <td>1</td>\n",
              "      <td>3.5</td>\n",
              "    </tr>\n",
              "    <tr>\n",
              "      <th>49847</th>\n",
              "      <td>id_3709</td>\n",
              "      <td>Madrid</td>\n",
              "      <td>['Spanish', 'Bar']</td>\n",
              "      <td>3711.0</td>\n",
              "      <td>$</td>\n",
              "      <td>217.0</td>\n",
              "      <td>[['Thursday snack', 'Good value for money &amp; go...</td>\n",
              "      <td>/Restaurant_Review-g187514-d3161682-Reviews-Ce...</td>\n",
              "      <td>d3161682</td>\n",
              "      <td>1</td>\n",
              "      <td>3.5</td>\n",
              "    </tr>\n",
              "    <tr>\n",
              "      <th>13942</th>\n",
              "      <td>id_5646</td>\n",
              "      <td>Madrid</td>\n",
              "      <td>['Lebanese', 'Mediterranean', 'Middle Eastern'...</td>\n",
              "      <td>5649.0</td>\n",
              "      <td>$$ - $$$</td>\n",
              "      <td>443.0</td>\n",
              "      <td>[['Good Lebanese food', 'Decent place'], ['07/...</td>\n",
              "      <td>/Restaurant_Review-g187514-d3685055-Reviews-Sh...</td>\n",
              "      <td>d3685055</td>\n",
              "      <td>1</td>\n",
              "      <td>3.5</td>\n",
              "    </tr>\n",
              "    <tr>\n",
              "      <th>37680</th>\n",
              "      <td>id_5617</td>\n",
              "      <td>Madrid</td>\n",
              "      <td>['Lebanese', 'Mediterranean', 'Middle Eastern'...</td>\n",
              "      <td>5620.0</td>\n",
              "      <td>$$ - $$$</td>\n",
              "      <td>443.0</td>\n",
              "      <td>[['Good Lebanese food', 'Decent place'], ['07/...</td>\n",
              "      <td>/Restaurant_Review-g187514-d3685055-Reviews-Sh...</td>\n",
              "      <td>d3685055</td>\n",
              "      <td>1</td>\n",
              "      <td>3.5</td>\n",
              "    </tr>\n",
              "    <tr>\n",
              "      <th>10147</th>\n",
              "      <td>id_4110</td>\n",
              "      <td>Madrid</td>\n",
              "      <td>['Spanish']</td>\n",
              "      <td>4112.0</td>\n",
              "      <td>NaN</td>\n",
              "      <td>2.0</td>\n",
              "      <td>[[], []]</td>\n",
              "      <td>/Restaurant_Review-g187514-d4600226-Reviews-Ca...</td>\n",
              "      <td>d4600226</td>\n",
              "      <td>1</td>\n",
              "      <td>5.0</td>\n",
              "    </tr>\n",
              "    <tr>\n",
              "      <th>19446</th>\n",
              "      <td>id_4104</td>\n",
              "      <td>Madrid</td>\n",
              "      <td>['Spanish']</td>\n",
              "      <td>4106.0</td>\n",
              "      <td>NaN</td>\n",
              "      <td>2.0</td>\n",
              "      <td>[[], []]</td>\n",
              "      <td>/Restaurant_Review-g187514-d4600226-Reviews-Ca...</td>\n",
              "      <td>d4600226</td>\n",
              "      <td>1</td>\n",
              "      <td>5.0</td>\n",
              "    </tr>\n",
              "    <tr>\n",
              "      <th>38096</th>\n",
              "      <td>id_1209</td>\n",
              "      <td>Madrid</td>\n",
              "      <td>['Moroccan', 'Vegetarian Friendly', 'Vegan Opt...</td>\n",
              "      <td>1210.0</td>\n",
              "      <td>$$ - $$$</td>\n",
              "      <td>341.0</td>\n",
              "      <td>[['Great food, service and atmosphere', 'Decor...</td>\n",
              "      <td>/Restaurant_Review-g187514-d697406-Reviews-Al_...</td>\n",
              "      <td>d697406</td>\n",
              "      <td>1</td>\n",
              "      <td>4.0</td>\n",
              "    </tr>\n",
              "    <tr>\n",
              "      <th>14578</th>\n",
              "      <td>id_1180</td>\n",
              "      <td>Madrid</td>\n",
              "      <td>['Moroccan', 'Vegetarian Friendly', 'Vegan Opt...</td>\n",
              "      <td>1181.0</td>\n",
              "      <td>$$ - $$$</td>\n",
              "      <td>341.0</td>\n",
              "      <td>[['Great food, service and atmosphere', 'Decor...</td>\n",
              "      <td>/Restaurant_Review-g187514-d697406-Reviews-Al_...</td>\n",
              "      <td>d697406</td>\n",
              "      <td>1</td>\n",
              "      <td>4.0</td>\n",
              "    </tr>\n",
              "    <tr>\n",
              "      <th>20183</th>\n",
              "      <td>id_1225</td>\n",
              "      <td>Madrid</td>\n",
              "      <td>['Mediterranean', 'European', 'Spanish', 'Vege...</td>\n",
              "      <td>1227.0</td>\n",
              "      <td>$$ - $$$</td>\n",
              "      <td>272.0</td>\n",
              "      <td>[['Simply Excellent!', 'Modern!'], ['10/22/201...</td>\n",
              "      <td>/Restaurant_Review-g187514-d7337366-Reviews-La...</td>\n",
              "      <td>d7337366</td>\n",
              "      <td>1</td>\n",
              "      <td>4.0</td>\n",
              "    </tr>\n",
              "    <tr>\n",
              "      <th>42814</th>\n",
              "      <td>id_1197</td>\n",
              "      <td>Madrid</td>\n",
              "      <td>['Mediterranean', 'European', 'Spanish', 'Vege...</td>\n",
              "      <td>1198.0</td>\n",
              "      <td>$$ - $$$</td>\n",
              "      <td>272.0</td>\n",
              "      <td>[['Simply Excellent!', 'Modern!'], ['10/22/201...</td>\n",
              "      <td>/Restaurant_Review-g187514-d7337366-Reviews-La...</td>\n",
              "      <td>d7337366</td>\n",
              "      <td>1</td>\n",
              "      <td>4.0</td>\n",
              "    </tr>\n",
              "    <tr>\n",
              "      <th>32924</th>\n",
              "      <td>id_2359</td>\n",
              "      <td>Madrid</td>\n",
              "      <td>['Spanish', 'Mediterranean']</td>\n",
              "      <td>2361.0</td>\n",
              "      <td>$$ - $$$</td>\n",
              "      <td>16.0</td>\n",
              "      <td>[['The real codido madrileño'], ['03/31/2017']]</td>\n",
              "      <td>/Restaurant_Review-g187514-d7342803-Reviews-Lo...</td>\n",
              "      <td>d7342803</td>\n",
              "      <td>1</td>\n",
              "      <td>4.5</td>\n",
              "    </tr>\n",
              "    <tr>\n",
              "      <th>46275</th>\n",
              "      <td>id_2467</td>\n",
              "      <td>Madrid</td>\n",
              "      <td>['Spanish', 'Mediterranean']</td>\n",
              "      <td>2469.0</td>\n",
              "      <td>$$ - $$$</td>\n",
              "      <td>16.0</td>\n",
              "      <td>[['The real codido madrileño'], ['03/31/2017']]</td>\n",
              "      <td>/Restaurant_Review-g187514-d7342803-Reviews-Lo...</td>\n",
              "      <td>d7342803</td>\n",
              "      <td>1</td>\n",
              "      <td>4.5</td>\n",
              "    </tr>\n",
              "    <tr>\n",
              "      <th>25525</th>\n",
              "      <td>id_3967</td>\n",
              "      <td>Madrid</td>\n",
              "      <td>['American', 'Spanish', 'Asian']</td>\n",
              "      <td>3969.0</td>\n",
              "      <td>NaN</td>\n",
              "      <td>61.0</td>\n",
              "      <td>[[], []]</td>\n",
              "      <td>/Restaurant_Review-g187514-d7809594-Reviews-La...</td>\n",
              "      <td>d7809594</td>\n",
              "      <td>1</td>\n",
              "      <td>3.5</td>\n",
              "    </tr>\n",
              "    <tr>\n",
              "      <th>29388</th>\n",
              "      <td>id_4331</td>\n",
              "      <td>Madrid</td>\n",
              "      <td>['American', 'Spanish', 'Asian']</td>\n",
              "      <td>4333.0</td>\n",
              "      <td>NaN</td>\n",
              "      <td>61.0</td>\n",
              "      <td>[[], []]</td>\n",
              "      <td>/Restaurant_Review-g187514-d7809594-Reviews-La...</td>\n",
              "      <td>d7809594</td>\n",
              "      <td>1</td>\n",
              "      <td>3.5</td>\n",
              "    </tr>\n",
              "    <tr>\n",
              "      <th>46822</th>\n",
              "      <td>id_2487</td>\n",
              "      <td>Madrid</td>\n",
              "      <td>['Italian', 'French', 'European']</td>\n",
              "      <td>2489.0</td>\n",
              "      <td>$$ - $$$</td>\n",
              "      <td>148.0</td>\n",
              "      <td>[['Sat night', 'Can\\'t even explain.. \"A\" plac...</td>\n",
              "      <td>/Restaurant_Review-g187514-d793170-Reviews-Car...</td>\n",
              "      <td>d793170</td>\n",
              "      <td>1</td>\n",
              "      <td>4.0</td>\n",
              "    </tr>\n",
              "    <tr>\n",
              "      <th>15240</th>\n",
              "      <td>id_2406</td>\n",
              "      <td>Madrid</td>\n",
              "      <td>['Italian', 'French', 'European']</td>\n",
              "      <td>2408.0</td>\n",
              "      <td>$$ - $$$</td>\n",
              "      <td>148.0</td>\n",
              "      <td>[['Sat night', 'Can\\'t even explain.. \"A\" plac...</td>\n",
              "      <td>/Restaurant_Review-g187514-d793170-Reviews-Car...</td>\n",
              "      <td>d793170</td>\n",
              "      <td>1</td>\n",
              "      <td>4.0</td>\n",
              "    </tr>\n",
              "    <tr>\n",
              "      <th>23942</th>\n",
              "      <td>id_1103</td>\n",
              "      <td>Madrid</td>\n",
              "      <td>['Spanish']</td>\n",
              "      <td>1104.0</td>\n",
              "      <td>$$ - $$$</td>\n",
              "      <td>73.0</td>\n",
              "      <td>[['ok for beer, not for dinner'], ['12/20/2017']]</td>\n",
              "      <td>/Restaurant_Review-g187514-d8753348-Reviews-Tr...</td>\n",
              "      <td>d8753348</td>\n",
              "      <td>1</td>\n",
              "      <td>4.5</td>\n",
              "    </tr>\n",
              "    <tr>\n",
              "      <th>41238</th>\n",
              "      <td>id_1212</td>\n",
              "      <td>Madrid</td>\n",
              "      <td>['Spanish']</td>\n",
              "      <td>1213.0</td>\n",
              "      <td>$$ - $$$</td>\n",
              "      <td>73.0</td>\n",
              "      <td>[['ok for beer, not for dinner'], ['12/20/2017']]</td>\n",
              "      <td>/Restaurant_Review-g187514-d8753348-Reviews-Tr...</td>\n",
              "      <td>d8753348</td>\n",
              "      <td>1</td>\n",
              "      <td>4.5</td>\n",
              "    </tr>\n",
              "    <tr>\n",
              "      <th>22938</th>\n",
              "      <td>id_2486</td>\n",
              "      <td>Madrid</td>\n",
              "      <td>NaN</td>\n",
              "      <td>2488.0</td>\n",
              "      <td>NaN</td>\n",
              "      <td>10.0</td>\n",
              "      <td>[['Absolutely authentic and delicious!', 'Wond...</td>\n",
              "      <td>/Restaurant_Review-g187514-d9802625-Reviews-La...</td>\n",
              "      <td>d9802625</td>\n",
              "      <td>1</td>\n",
              "      <td>5.0</td>\n",
              "    </tr>\n",
              "    <tr>\n",
              "      <th>20594</th>\n",
              "      <td>id_2677</td>\n",
              "      <td>Madrid</td>\n",
              "      <td>NaN</td>\n",
              "      <td>2679.0</td>\n",
              "      <td>NaN</td>\n",
              "      <td>10.0</td>\n",
              "      <td>[['Absolutely authentic and delicious!', 'Wond...</td>\n",
              "      <td>/Restaurant_Review-g187514-d9802625-Reviews-La...</td>\n",
              "      <td>d9802625</td>\n",
              "      <td>1</td>\n",
              "      <td>5.0</td>\n",
              "    </tr>\n",
              "    <tr>\n",
              "      <th>25295</th>\n",
              "      <td>id_475</td>\n",
              "      <td>Madrid</td>\n",
              "      <td>['Japanese', 'Vegetarian Friendly', 'Vegan Opt...</td>\n",
              "      <td>476.0</td>\n",
              "      <td>$$ - $$$</td>\n",
              "      <td>67.0</td>\n",
              "      <td>[['Whenever in Madrid, we never miss this gem....</td>\n",
              "      <td>/Restaurant_Review-g187514-d9877640-Reviews-Ra...</td>\n",
              "      <td>d9877640</td>\n",
              "      <td>1</td>\n",
              "      <td>4.5</td>\n",
              "    </tr>\n",
              "    <tr>\n",
              "      <th>25565</th>\n",
              "      <td>id_530</td>\n",
              "      <td>Madrid</td>\n",
              "      <td>['Japanese', 'Vegetarian Friendly', 'Vegan Opt...</td>\n",
              "      <td>531.0</td>\n",
              "      <td>$$ - $$$</td>\n",
              "      <td>67.0</td>\n",
              "      <td>[['Whenever in Madrid, we never miss this gem....</td>\n",
              "      <td>/Restaurant_Review-g187514-d9877640-Reviews-Ra...</td>\n",
              "      <td>d9877640</td>\n",
              "      <td>1</td>\n",
              "      <td>4.5</td>\n",
              "    </tr>\n",
              "    <tr>\n",
              "      <th>32998</th>\n",
              "      <td>id_2312</td>\n",
              "      <td>Madrid</td>\n",
              "      <td>['Seafood', 'Mediterranean', 'European', 'Span...</td>\n",
              "      <td>2314.0</td>\n",
              "      <td>$$ - $$$</td>\n",
              "      <td>190.0</td>\n",
              "      <td>[['Nice restaurant in Madrid', 'Highly reccome...</td>\n",
              "      <td>/Restaurant_Review-g187514-d987900-Reviews-Com...</td>\n",
              "      <td>d987900</td>\n",
              "      <td>1</td>\n",
              "      <td>4.0</td>\n",
              "    </tr>\n",
              "    <tr>\n",
              "      <th>18019</th>\n",
              "      <td>id_2361</td>\n",
              "      <td>Madrid</td>\n",
              "      <td>['Seafood', 'Mediterranean', 'European', 'Span...</td>\n",
              "      <td>2363.0</td>\n",
              "      <td>$$ - $$$</td>\n",
              "      <td>190.0</td>\n",
              "      <td>[['Nice restaurant in Madrid', 'Highly reccome...</td>\n",
              "      <td>/Restaurant_Review-g187514-d987900-Reviews-Com...</td>\n",
              "      <td>d987900</td>\n",
              "      <td>1</td>\n",
              "      <td>4.0</td>\n",
              "    </tr>\n",
              "  </tbody>\n",
              "</table>\n",
              "</div>"
            ],
            "text/plain": [
              "      Restaurant_id    City  ... sample  Rating\n",
              "48946       id_3242  Madrid  ...      1     5.0\n",
              "23980       id_3239  Madrid  ...      1     5.0\n",
              "21583       id_3810  Madrid  ...      1     4.0\n",
              "14732       id_3804  Madrid  ...      1     4.0\n",
              "36551       id_3240  Madrid  ...      1     4.5\n",
              "36431       id_3238  Madrid  ...      1     4.5\n",
              "20819       id_2197  Madrid  ...      1     4.5\n",
              "22628       id_2329  Madrid  ...      1     4.5\n",
              "39879       id_3662  Madrid  ...      1     4.0\n",
              "26920       id_3536  Madrid  ...      1     4.0\n",
              "36696       id_2485  Madrid  ...      1     5.0\n",
              "11579       id_2673  Madrid  ...      1     5.0\n",
              "20439        id_468  Madrid  ...      1     4.0\n",
              "35785        id_511  Madrid  ...      1     4.0\n",
              "18421       id_3811  Madrid  ...      1     4.0\n",
              "34545       id_3805  Madrid  ...      1     4.0\n",
              "35251       id_3575  Madrid  ...      1     3.5\n",
              "49847       id_3709  Madrid  ...      1     3.5\n",
              "13942       id_5646  Madrid  ...      1     3.5\n",
              "37680       id_5617  Madrid  ...      1     3.5\n",
              "10147       id_4110  Madrid  ...      1     5.0\n",
              "19446       id_4104  Madrid  ...      1     5.0\n",
              "38096       id_1209  Madrid  ...      1     4.0\n",
              "14578       id_1180  Madrid  ...      1     4.0\n",
              "20183       id_1225  Madrid  ...      1     4.0\n",
              "42814       id_1197  Madrid  ...      1     4.0\n",
              "32924       id_2359  Madrid  ...      1     4.5\n",
              "46275       id_2467  Madrid  ...      1     4.5\n",
              "25525       id_3967  Madrid  ...      1     3.5\n",
              "29388       id_4331  Madrid  ...      1     3.5\n",
              "46822       id_2487  Madrid  ...      1     4.0\n",
              "15240       id_2406  Madrid  ...      1     4.0\n",
              "23942       id_1103  Madrid  ...      1     4.5\n",
              "41238       id_1212  Madrid  ...      1     4.5\n",
              "22938       id_2486  Madrid  ...      1     5.0\n",
              "20594       id_2677  Madrid  ...      1     5.0\n",
              "25295        id_475  Madrid  ...      1     4.5\n",
              "25565        id_530  Madrid  ...      1     4.5\n",
              "32998       id_2312  Madrid  ...      1     4.0\n",
              "18019       id_2361  Madrid  ...      1     4.0\n",
              "\n",
              "[40 rows x 11 columns]"
            ]
          },
          "metadata": {
            "tags": []
          },
          "execution_count": 83
        }
      ]
    },
    {
      "cell_type": "markdown",
      "metadata": {
        "id": "mOOcosVscsFm"
      },
      "source": [
        "Все данные одинковые кроме Ranking. Удалим данные из таблицы где Ranking будет хуже."
      ]
    },
    {
      "cell_type": "code",
      "metadata": {
        "id": "uuPNEyGydExw"
      },
      "source": [
        "items_to_drop = non_unique_ta.sort_values(by=['ID_TA', 'Ranking'], ascending=False).index[0::2]"
      ],
      "execution_count": 84,
      "outputs": []
    },
    {
      "cell_type": "code",
      "metadata": {
        "colab": {
          "base_uri": "https://localhost:8080/"
        },
        "id": "tkt7GjZudaYt",
        "outputId": "60d7a385-9f33-4d11-acfd-d9e54b0999de"
      },
      "source": [
        "data.drop(labels=items_to_drop, axis=0, inplace=True)\n",
        "\n",
        "# и проверяем, чтобы их не осталось\n",
        "df_sample = data[data['sample'] == 1]\n",
        "len(df_sample['ID_TA']) - df_sample['ID_TA'].nunique()"
      ],
      "execution_count": 85,
      "outputs": [
        {
          "output_type": "execute_result",
          "data": {
            "text/plain": [
              "0"
            ]
          },
          "metadata": {
            "tags": []
          },
          "execution_count": 85
        }
      ]
    },
    {
      "cell_type": "markdown",
      "metadata": {
        "id": "25WV97EddvUr"
      },
      "source": [
        "Теперь можно спокойно удалить данные столбцы"
      ]
    },
    {
      "cell_type": "code",
      "metadata": {
        "id": "jfq7JK_6daQR"
      },
      "source": [
        "data.drop(columns=['URL_TA', 'ID_TA'], inplace=True)"
      ],
      "execution_count": 86,
      "outputs": []
    },
    {
      "cell_type": "markdown",
      "metadata": {
        "id": "x2yx27jad8PI"
      },
      "source": [
        "## Посмотрим на целевой столбец *Rating*"
      ]
    },
    {
      "cell_type": "code",
      "metadata": {
        "colab": {
          "base_uri": "https://localhost:8080/",
          "height": 0
        },
        "id": "rP3uspK0e5X5",
        "outputId": "dc9f9c27-f099-44e6-b709-fc3ff8f8497e"
      },
      "source": [
        "data['Rating'].hist()"
      ],
      "execution_count": 87,
      "outputs": [
        {
          "output_type": "execute_result",
          "data": {
            "text/plain": [
              "<matplotlib.axes._subplots.AxesSubplot at 0x7f10e8d86410>"
            ]
          },
          "metadata": {
            "tags": []
          },
          "execution_count": 87
        },
        {
          "output_type": "display_data",
          "data": {
            "image/png": "[encoded data removed]",
            "text/plain": [
              "<Figure size 1080x504 with 1 Axes>"
            ]
          },
          "metadata": {
            "tags": [],
            "needs_background": "light"
          }
        }
      ]
    },
    {
      "cell_type": "markdown",
      "metadata": {
        "id": "uf1d4jKofC3T"
      },
      "source": [
        "Выбросов в данном значении не наблюдается, так же можно заметить, что все значения кратны 0.5, что в свою очередь позволяет сделать вывод, что можно задать функцию, которая будет округлять предсказанные значения до кратности 0.5  \n",
        "Добавим такую функцию в блок \"Общие функции\""
      ]
    },
    {
      "cell_type": "markdown",
      "metadata": {
        "id": "aVdgrPdffqIB"
      },
      "source": [
        "## Обработка столбца Restaurant_id\n"
      ]
    },
    {
      "cell_type": "markdown",
      "metadata": {
        "id": "JGyPaZQfgEGk"
      },
      "source": [
        "Данный столбец числовой, но в нем присутствует подпись id_. Удалим её.\n"
      ]
    },
    {
      "cell_type": "code",
      "metadata": {
        "id": "Zekely7XgCu9"
      },
      "source": [
        "data['Restaurant_id'] = data['Restaurant_id'].apply(lambda x: int(x[3:]))"
      ],
      "execution_count": 88,
      "outputs": []
    },
    {
      "cell_type": "markdown",
      "metadata": {
        "id": "v-h-oggXgn-m"
      },
      "source": [
        "Оценим сколько всего уникальных ресторанных сетей"
      ]
    },
    {
      "cell_type": "code",
      "metadata": {
        "colab": {
          "base_uri": "https://localhost:8080/"
        },
        "id": "mt7w-AtugvnR",
        "outputId": "cef075c9-a711-47ce-db5f-14a911ed1f89"
      },
      "source": [
        "data['Restaurant_id'].value_counts().value_counts()"
      ],
      "execution_count": 89,
      "outputs": [
        {
          "output_type": "execute_result",
          "data": {
            "text/plain": [
              "1     3810\n",
              "2     2553\n",
              "3     1846\n",
              "4     1227\n",
              "5      809\n",
              "6      518\n",
              "7      412\n",
              "8      381\n",
              "10     333\n",
              "9      312\n",
              "11     254\n",
              "12     220\n",
              "13     151\n",
              "14     129\n",
              "15      74\n",
              "16      37\n",
              "17      18\n",
              "18       6\n",
              "19       4\n",
              "Name: Restaurant_id, dtype: int64"
            ]
          },
          "metadata": {
            "tags": []
          },
          "execution_count": 89
        }
      ]
    },
    {
      "cell_type": "markdown",
      "metadata": {
        "id": "FUgHuK2ChTrW"
      },
      "source": [
        "Мы видем что есть сетевые рестораны. Построим распределение"
      ]
    },
    {
      "cell_type": "code",
      "metadata": {
        "colab": {
          "base_uri": "https://localhost:8080/",
          "height": 460
        },
        "id": "0amNO_3ehbJa",
        "outputId": "58af9d51-5660-4604-fdbf-3fe1934c9ad5"
      },
      "source": [
        "all_id = data['Restaurant_id'].value_counts()\n",
        "all_restuaran = all_id.value_counts()/len(all_id)\n",
        "sns.barplot(y=all_restuaran, x=all_restuaran.index)\n",
        "plt.ylabel('%')\n",
        "plt.xlabel('Количество ресторанов в сети')"
      ],
      "execution_count": 90,
      "outputs": [
        {
          "output_type": "execute_result",
          "data": {
            "text/plain": [
              "Text(0.5, 0, 'Количество ресторанов в сети')"
            ]
          },
          "metadata": {
            "tags": []
          },
          "execution_count": 90
        },
        {
          "output_type": "display_data",
          "data": {
            "image/png": "[encoded data removed]",
            "text/plain": [
              "<Figure size 1080x504 with 1 Axes>"
            ]
          },
          "metadata": {
            "tags": [],
            "needs_background": "light"
          }
        }
      ]
    },
    {
      "cell_type": "markdown",
      "metadata": {
        "id": "TECf1-tKini3"
      },
      "source": [
        "Около 30% не сетевых ресторанов, но так же сетевых ресторанов очень много, максимальное значение достигает в 19 ресторанов в одной сети."
      ]
    },
    {
      "cell_type": "markdown",
      "metadata": {
        "id": "6Fa6KO4Ri412"
      },
      "source": [
        "## Обработка столбца Price Range"
      ]
    },
    {
      "cell_type": "markdown",
      "metadata": {
        "id": "SOxHZDGzi-ZE"
      },
      "source": [
        "При первичном анализе в данном столбце были обнаружены пропуски, чтобы их заполнить, нужно разобраться со значением object в данном столбце. Так как изначально предполагается что этот слобец должен быть числовым, но нам пришли только строковые значения. Займемся преобразованием."
      ]
    },
    {
      "cell_type": "code",
      "metadata": {
        "colab": {
          "base_uri": "https://localhost:8080/"
        },
        "id": "2-aC2tvmjhgU",
        "outputId": "8ff07a2b-91fb-4e79-c2a8-d8b2259aaaf7"
      },
      "source": [
        "data['Price Range'].value_counts()"
      ],
      "execution_count": 91,
      "outputs": [
        {
          "output_type": "execute_result",
          "data": {
            "text/plain": [
              "$$ - $$$    23031\n",
              "$            7813\n",
              "$$$$         1782\n",
              "Name: Price Range, dtype: int64"
            ]
          },
          "metadata": {
            "tags": []
          },
          "execution_count": 91
        }
      ]
    },
    {
      "cell_type": "markdown",
      "metadata": {
        "id": "lD0UTpMDjuTh"
      },
      "source": [
        "Нам предоставляются три значения и значение средней цены преобладает, заполним пропуски значеним средней цены."
      ]
    },
    {
      "cell_type": "code",
      "metadata": {
        "id": "AIHyl6GbkgyO"
      },
      "source": [
        "dic_value_Price = {'$':1,'$$ - $$$':2,'$$$$':3}\n",
        "data['Price_Range'] = data['Price Range'].map(lambda x: dic_value_Price.get(x,x))\n",
        "data['Price_Range'] = data['Price_Range'].fillna(2)"
      ],
      "execution_count": 92,
      "outputs": []
    },
    {
      "cell_type": "markdown",
      "metadata": {
        "id": "4pWQsDZkmIvl"
      },
      "source": [
        "## Обработка столбца Number of Reviews"
      ]
    },
    {
      "cell_type": "markdown",
      "metadata": {
        "id": "vrVPMTcnmVOH"
      },
      "source": [
        "Заполним нулями пропуски"
      ]
    },
    {
      "cell_type": "code",
      "metadata": {
        "id": "QsgO1N9xmbPJ"
      },
      "source": [
        "data['Number of Reviews'].fillna(0, inplace=True)"
      ],
      "execution_count": 93,
      "outputs": []
    },
    {
      "cell_type": "markdown",
      "metadata": {
        "id": "Ik6KmThEmk0y"
      },
      "source": [
        "Посмотрим на распределение\n"
      ]
    },
    {
      "cell_type": "code",
      "metadata": {
        "colab": {
          "base_uri": "https://localhost:8080/",
          "height": 0
        },
        "id": "l1N1iBVnmnkP",
        "outputId": "5e20a514-a418-40a7-8f69-ee19a05a5b9b"
      },
      "source": [
        "data['Number of Reviews'].hist(bins=100)"
      ],
      "execution_count": 94,
      "outputs": [
        {
          "output_type": "execute_result",
          "data": {
            "text/plain": [
              "<matplotlib.axes._subplots.AxesSubplot at 0x7f10e847b490>"
            ]
          },
          "metadata": {
            "tags": []
          },
          "execution_count": 94
        },
        {
          "output_type": "display_data",
          "data": {
            "image/png": "[encoded data removed]",
            "text/plain": [
              "<Figure size 1080x504 with 1 Axes>"
            ]
          },
          "metadata": {
            "tags": [],
            "needs_background": "light"
          }
        }
      ]
    },
    {
      "cell_type": "markdown",
      "metadata": {
        "id": "uDzqvCaiVaMT"
      },
      "source": [
        "Данный график показывает, что данные имеют экспоненциальное распределение. Отрицательных значений не наблюдается, можно идти дальше."
      ]
    },
    {
      "cell_type": "markdown",
      "metadata": {
        "id": "ZDrXYAnFWHm_"
      },
      "source": [
        "## Обработка столбца Ranking"
      ]
    },
    {
      "cell_type": "markdown",
      "metadata": {
        "id": "u1LAVxYBWriB"
      },
      "source": [
        "Выведем распределение"
      ]
    },
    {
      "cell_type": "code",
      "metadata": {
        "colab": {
          "base_uri": "https://localhost:8080/",
          "height": 0
        },
        "id": "lYQFBlWzWxsj",
        "outputId": "8cc0f007-7448-4870-bd73-f6e7215924c3"
      },
      "source": [
        "data['Ranking'].hist(bins=100)"
      ],
      "execution_count": 95,
      "outputs": [
        {
          "output_type": "execute_result",
          "data": {
            "text/plain": [
              "<matplotlib.axes._subplots.AxesSubplot at 0x7f10e9fd6710>"
            ]
          },
          "metadata": {
            "tags": []
          },
          "execution_count": 95
        },
        {
          "output_type": "display_data",
          "data": {
            "image/png": "[encoded data removed]",
            "text/plain": [
              "<Figure size 1080x504 with 1 Axes>"
            ]
          },
          "metadata": {
            "tags": [],
            "needs_background": "light"
          }
        }
      ]
    },
    {
      "cell_type": "markdown",
      "metadata": {
        "id": "J8w4iCX8W-y4"
      },
      "source": [
        "Посмотрим на распределение самого крупного города"
      ]
    },
    {
      "cell_type": "code",
      "metadata": {
        "colab": {
          "base_uri": "https://localhost:8080/",
          "height": 0
        },
        "id": "qME8IDRaXGQg",
        "outputId": "2493475f-e319-4d0b-a598-11c2a6579b05"
      },
      "source": [
        "big_city = data['City'].value_counts().index[0]\n",
        "data['Ranking'][data['City'] == big_city].hist(bins=100)"
      ],
      "execution_count": 96,
      "outputs": [
        {
          "output_type": "execute_result",
          "data": {
            "text/plain": [
              "<matplotlib.axes._subplots.AxesSubplot at 0x7f10e9c8fa90>"
            ]
          },
          "metadata": {
            "tags": []
          },
          "execution_count": 96
        },
        {
          "output_type": "display_data",
          "data": {
            "image/png": "[encoded data removed]",
            "text/plain": [
              "<Figure size 1080x504 with 1 Axes>"
            ]
          },
          "metadata": {
            "tags": [],
            "needs_background": "light"
          }
        }
      ]
    },
    {
      "cell_type": "markdown",
      "metadata": {
        "id": "aaP9sSp1XkvL"
      },
      "source": [
        "Оно равномерное.  Взглянем на распределение топ 10 городов"
      ]
    },
    {
      "cell_type": "code",
      "metadata": {
        "colab": {
          "base_uri": "https://localhost:8080/",
          "height": 0
        },
        "id": "eHtQZPabXwQI",
        "outputId": "21654ff8-2926-48ed-fe39-794e744de2ef"
      },
      "source": [
        "for x in (df_train['City'].value_counts())[0:10].index:\n",
        "    df_train['Ranking'][df_train['City'] == x].hist(bins=100)\n",
        "plt.show()"
      ],
      "execution_count": 97,
      "outputs": [
        {
          "output_type": "display_data",
          "data": {
            "image/png": "[encoded data removed]",
            "text/plain": [
              "<Figure size 1080x504 with 1 Axes>"
            ]
          },
          "metadata": {
            "tags": [],
            "needs_background": "light"
          }
        }
      ]
    },
    {
      "cell_type": "markdown",
      "metadata": {
        "id": "H_Nf3SPbYR0v"
      },
      "source": [
        "Получается, что Ranking имеет нормальное распределение, просто в больших городах больше ресторанов, из-за мы этого имеем смещение."
      ]
    },
    {
      "cell_type": "markdown",
      "metadata": {
        "id": "rhqszniMWRmj"
      },
      "source": [
        "## Обработка столбца City"
      ]
    },
    {
      "cell_type": "markdown",
      "metadata": {
        "id": "PBq263gKZgEJ"
      },
      "source": [
        "Получим основные данные из столбца city, для дальнейшей обработки"
      ]
    },
    {
      "cell_type": "code",
      "metadata": {
        "id": "dbaFxwJgYktB"
      },
      "source": [
        "cities = data['City'].value_counts()\n",
        "count_cities = len(data['City'])\n",
        "per_cities = cities / count_cities * 100 "
      ],
      "execution_count": 98,
      "outputs": []
    },
    {
      "cell_type": "markdown",
      "metadata": {
        "id": "uRFhBVzBYhJU"
      },
      "source": [
        "Построим распределение городов\n"
      ]
    },
    {
      "cell_type": "code",
      "metadata": {
        "colab": {
          "base_uri": "https://localhost:8080/",
          "height": 0
        },
        "id": "Wl0DmGYsZfUs",
        "outputId": "02de2a7c-ff20-4dd3-c76e-0424c4e42566"
      },
      "source": [
        "plt.figure(figsize=(15, 5))         \n",
        "sns.barplot(x=cities.index, y=per_cities)\n",
        "plt.title('Процент городов %', fontsize=15)\n",
        "plt.ylabel('Количество %')\n",
        "plt.xticks(rotation=90)\n",
        "plt.xlabel('Город')"
      ],
      "execution_count": 99,
      "outputs": [
        {
          "output_type": "execute_result",
          "data": {
            "text/plain": [
              "Text(0.5, 0, 'Город')"
            ]
          },
          "metadata": {
            "tags": []
          },
          "execution_count": 99
        },
        {
          "output_type": "display_data",
          "data": {
            "image/png": "[encoded data removed]",
            "text/plain": [
              "<Figure size 1080x360 with 1 Axes>"
            ]
          },
          "metadata": {
            "tags": [],
            "needs_background": "light"
          }
        }
      ]
    },
    {
      "cell_type": "markdown",
      "metadata": {
        "id": "k3XBb07CZ-NS"
      },
      "source": [
        "Города распределены не равномерно, дальше будет преобразование в dummy переменные"
      ]
    },
    {
      "cell_type": "markdown",
      "metadata": {
        "id": "tydPONoZWU1A"
      },
      "source": [
        "## Обработка столбца Cuisine Style"
      ]
    },
    {
      "cell_type": "markdown",
      "metadata": {
        "id": "sAJEgTpKb-mT"
      },
      "source": [
        "Обработаем значения для удобной работы"
      ]
    },
    {
      "cell_type": "code",
      "metadata": {
        "id": "PHLEZN09b77y"
      },
      "source": [
        "data['Cuisine Style'] = data['Cuisine Style'].fillna(\"['Other']\")\n",
        "\n",
        "# закодируем значения в переменной до их преобразования\n",
        "le = LabelEncoder()\n",
        "le.fit(data['Cuisine Style'])\n",
        "data['code_Cuisine Style'] = le.transform(data['Cuisine Style'])\n",
        "\n",
        "data['Cuisine Style'] = data['Cuisine Style'].str.findall(r\"'(\\b.*?\\b)'\")"
      ],
      "execution_count": 103,
      "outputs": []
    },
    {
      "cell_type": "code",
      "metadata": {
        "colab": {
          "base_uri": "https://localhost:8080/"
        },
        "id": "1YjrBDXDeCHy",
        "outputId": "853eb518-555a-47d1-8aaa-d6c00519e43c"
      },
      "source": [
        "data['Cuisine Style'].head()"
      ],
      "execution_count": 104,
      "outputs": [
        {
          "output_type": "execute_result",
          "data": {
            "text/plain": [
              "0                                           [Bar, Pub]\n",
              "1    [European, Scandinavian, Gluten Free Options, ...\n",
              "2                                [Vegetarian Friendly]\n",
              "3    [Italian, Mediterranean, European, Vegetarian ...\n",
              "4    [Italian, Mediterranean, European, Seafood, Ve...\n",
              "Name: Cuisine Style, dtype: object"
            ]
          },
          "metadata": {
            "tags": []
          },
          "execution_count": 104
        }
      ]
    },
    {
      "cell_type": "markdown",
      "metadata": {
        "id": "Yh7HgI64eQry"
      },
      "source": [
        "Построим распределение кухонь"
      ]
    },
    {
      "cell_type": "code",
      "metadata": {
        "id": "jmiU9P4SeX_s"
      },
      "source": [
        "cuisine_style = data['Cuisine Style'].explode().value_counts()"
      ],
      "execution_count": 111,
      "outputs": []
    },
    {
      "cell_type": "code",
      "metadata": {
        "id": "n4hJhHPFeu8T"
      },
      "source": [
        "cuisine_sum = cuisine_style.sum()\n",
        "cuisine_style = cuisine_style.apply(lambda x: x/cuisine_sum)"
      ],
      "execution_count": 112,
      "outputs": []
    },
    {
      "cell_type": "code",
      "metadata": {
        "colab": {
          "base_uri": "https://localhost:8080/",
          "height": 567
        },
        "id": "qy9KA2WhfJLR",
        "outputId": "9211ffe4-f908-49ac-8e7a-a52ef92f65e1"
      },
      "source": [
        "plt.title('Кухонное распределение, %', fontsize=15)\n",
        "sns.barplot(y=cuisine_style, x=cuisine_style.index)\n",
        "plt.xticks(rotation=90)\n",
        "plt.ylabel('Количество %')\n",
        "plt.xlabel('Кухня')"
      ],
      "execution_count": 113,
      "outputs": [
        {
          "output_type": "execute_result",
          "data": {
            "text/plain": [
              "Text(0.5, 0, 'Кухня')"
            ]
          },
          "metadata": {
            "tags": []
          },
          "execution_count": 113
        },
        {
          "output_type": "display_data",
          "data": {
            "image/png": "[encoded data removed]",
            "text/plain": [
              "<Figure size 1080x504 with 1 Axes>"
            ]
          },
          "metadata": {
            "tags": [],
            "needs_background": "light"
          }
        }
      ]
    },
    {
      "cell_type": "markdown",
      "metadata": {
        "id": "s0CxC2xYfmhJ"
      },
      "source": [
        "# Feature Engeneering"
      ]
    },
    {
      "cell_type": "markdown",
      "metadata": {
        "id": "n6Wn8keIf1rL"
      },
      "source": [
        "Столбец Restaurant_id - это код ресторана или сети. Добавим столбец, указывающий на то, что ресторан сетевой. Значение столбца должно быть тем больше, чем больше ресторанов в этой сети, однако, распределение имеет экспоненциальный вид, поэтому разумнее брать не просто количество ресторанов в сети, а его логарифм"
      ]
    },
    {
      "cell_type": "code",
      "metadata": {
        "id": "gG2NVSg_gl2E"
      },
      "source": [
        "data['IS_NET'] = data['Restaurant_id'].apply(lambda x: math.log(all_id[x]))"
      ],
      "execution_count": 114,
      "outputs": []
    },
    {
      "cell_type": "markdown",
      "metadata": {
        "id": "xTSiTCh2muNg"
      },
      "source": [
        "Преобразуем ranking в % от общего числа мест в каждом городе, чтобы он зависил только от опций ресторана, а не от популярности города."
      ]
    },
    {
      "cell_type": "code",
      "metadata": {
        "id": "Xh24MNzunRUo"
      },
      "source": [
        "def normalize_ranking(row):\n",
        "  return row['Ranking'] / cities[row['City']]\n",
        "\n",
        "data['Ranking'] = data.apply(normalize_ranking, axis=1)"
      ],
      "execution_count": 116,
      "outputs": []
    },
    {
      "cell_type": "markdown",
      "metadata": {
        "id": "z-Oz0wK6nR-E"
      },
      "source": [
        "Теперь добавим дополнительную информацию по кухням: популярность кухонь - сумму % частоты каждой кухни из предлагаемых рестораном."
      ]
    },
    {
      "cell_type": "code",
      "metadata": {
        "id": "zqj4MEN7ncbq"
      },
      "source": [
        "def cuisine_rating(x):\n",
        "    return sum([cuisine_style[c] for c in x])\n",
        "\n",
        "\n",
        "data['Cuisine Rating'] = data['Cuisine Style'].apply(cuisine_rating)"
      ],
      "execution_count": 118,
      "outputs": []
    },
    {
      "cell_type": "markdown",
      "metadata": {
        "id": "H9PYws_lnd19"
      },
      "source": [
        "Превратим столбец reviews из каши в разницу (в днях) между датами самого старого и самого нового обзоров"
      ]
    },
    {
      "cell_type": "code",
      "metadata": {
        "colab": {
          "base_uri": "https://localhost:8080/",
          "height": 281
        },
        "id": "RzwC0R9GqgpM",
        "outputId": "e8a07f6e-917c-4aba-e898-1db920af4e61"
      },
      "source": [
        "def parse_review_date(x):\n",
        "    arr = str(x)[2:-2].split('], [')\n",
        "    if (len(arr) < 2 or arr[1] == ''):               \n",
        "        return []\n",
        "\n",
        "    res = pd.to_datetime(arr[1].split(', '), format='\\'%m/%d/%Y\\'')\n",
        "    return [res.min(), res.max()]\n",
        "\n",
        "\n",
        "now = datetime.now()\n",
        "data['Review_dates'] = data.Reviews.apply(parse_review_date)\n",
        "data['Review_dist'] = data.Review_dates.apply(lambda x: (x[1] - x[0]).days if len(x) == 2 else 0)\n",
        "data['Review_age'] = data.Review_dates.apply(lambda x: (now - x[1]).days if len(x) == 2 else 0)\n",
        "data.head()"
      ],
      "execution_count": 119,
      "outputs": [
        {
          "output_type": "execute_result",
          "data": {
            "text/html": [
              "<div>\n",
              "<style scoped>\n",
              "    .dataframe tbody tr th:only-of-type {\n",
              "        vertical-align: middle;\n",
              "    }\n",
              "\n",
              "    .dataframe tbody tr th {\n",
              "        vertical-align: top;\n",
              "    }\n",
              "\n",
              "    .dataframe thead th {\n",
              "        text-align: right;\n",
              "    }\n",
              "</style>\n",
              "<table border=\"1\" class=\"dataframe\">\n",
              "  <thead>\n",
              "    <tr style=\"text-align: right;\">\n",
              "      <th></th>\n",
              "      <th>Restaurant_id</th>\n",
              "      <th>City</th>\n",
              "      <th>Cuisine Style</th>\n",
              "      <th>Ranking</th>\n",
              "      <th>Price Range</th>\n",
              "      <th>Number of Reviews</th>\n",
              "      <th>Reviews</th>\n",
              "      <th>sample</th>\n",
              "      <th>Rating</th>\n",
              "      <th>Price_Range</th>\n",
              "      <th>code_Cuisine Style</th>\n",
              "      <th>IS_NET</th>\n",
              "      <th>Cuisine Rating</th>\n",
              "      <th>Review_dates</th>\n",
              "      <th>Review_dist</th>\n",
              "      <th>Review_age</th>\n",
              "    </tr>\n",
              "  </thead>\n",
              "  <tbody>\n",
              "    <tr>\n",
              "      <th>0</th>\n",
              "      <td>0</td>\n",
              "      <td>Paris</td>\n",
              "      <td>[Bar, Pub]</td>\n",
              "      <td>2.122299</td>\n",
              "      <td>$$ - $$$</td>\n",
              "      <td>4.0</td>\n",
              "      <td>[[], []]</td>\n",
              "      <td>0</td>\n",
              "      <td>0.0</td>\n",
              "      <td>2.0</td>\n",
              "      <td>1778</td>\n",
              "      <td>2.772589</td>\n",
              "      <td>0.054499</td>\n",
              "      <td>[]</td>\n",
              "      <td>0</td>\n",
              "      <td>0</td>\n",
              "    </tr>\n",
              "    <tr>\n",
              "      <th>1</th>\n",
              "      <td>1</td>\n",
              "      <td>Helsinki</td>\n",
              "      <td>[European, Scandinavian, Gluten Free Options, ...</td>\n",
              "      <td>0.223158</td>\n",
              "      <td>$$ - $$$</td>\n",
              "      <td>97.0</td>\n",
              "      <td>[['Very good reviews!', 'Fine dining in Hakani...</td>\n",
              "      <td>0</td>\n",
              "      <td>0.0</td>\n",
              "      <td>2.0</td>\n",
              "      <td>4076</td>\n",
              "      <td>2.302585</td>\n",
              "      <td>0.288714</td>\n",
              "      <td>[2017-10-29 00:00:00, 2017-12-05 00:00:00]</td>\n",
              "      <td>37</td>\n",
              "      <td>1216</td>\n",
              "    </tr>\n",
              "    <tr>\n",
              "      <th>2</th>\n",
              "      <td>2</td>\n",
              "      <td>Edinburgh</td>\n",
              "      <td>[Vegetarian Friendly]</td>\n",
              "      <td>1.087248</td>\n",
              "      <td>$$ - $$$</td>\n",
              "      <td>28.0</td>\n",
              "      <td>[['Better than the Links', 'Ivy Black'], ['12/...</td>\n",
              "      <td>0</td>\n",
              "      <td>0.0</td>\n",
              "      <td>2.0</td>\n",
              "      <td>10661</td>\n",
              "      <td>2.708050</td>\n",
              "      <td>0.106811</td>\n",
              "      <td>[2017-12-06 00:00:00, 2017-12-28 00:00:00]</td>\n",
              "      <td>22</td>\n",
              "      <td>1193</td>\n",
              "    </tr>\n",
              "    <tr>\n",
              "      <th>3</th>\n",
              "      <td>3</td>\n",
              "      <td>London</td>\n",
              "      <td>[Italian, Mediterranean, European, Vegetarian ...</td>\n",
              "      <td>0.232031</td>\n",
              "      <td>$$$$</td>\n",
              "      <td>202.0</td>\n",
              "      <td>[['Most exquisite', 'Delicious and authentic']...</td>\n",
              "      <td>0</td>\n",
              "      <td>0.0</td>\n",
              "      <td>3.0</td>\n",
              "      <td>7110</td>\n",
              "      <td>2.197225</td>\n",
              "      <td>0.358196</td>\n",
              "      <td>[2017-11-22 00:00:00, 2017-12-06 00:00:00]</td>\n",
              "      <td>14</td>\n",
              "      <td>1215</td>\n",
              "    </tr>\n",
              "    <tr>\n",
              "      <th>4</th>\n",
              "      <td>4</td>\n",
              "      <td>Bratislava</td>\n",
              "      <td>[Italian, Mediterranean, European, Seafood, Ve...</td>\n",
              "      <td>0.097368</td>\n",
              "      <td>$$$$</td>\n",
              "      <td>162.0</td>\n",
              "      <td>[['Always the best in bratislava', 'Very good ...</td>\n",
              "      <td>0</td>\n",
              "      <td>0.0</td>\n",
              "      <td>3.0</td>\n",
              "      <td>7094</td>\n",
              "      <td>2.639057</td>\n",
              "      <td>0.372501</td>\n",
              "      <td>[2018-01-24 00:00:00, 2018-02-08 00:00:00]</td>\n",
              "      <td>15</td>\n",
              "      <td>1151</td>\n",
              "    </tr>\n",
              "  </tbody>\n",
              "</table>\n",
              "</div>"
            ],
            "text/plain": [
              "   Restaurant_id        City  ... Review_dist  Review_age\n",
              "0              0       Paris  ...           0           0\n",
              "1              1    Helsinki  ...          37        1216\n",
              "2              2   Edinburgh  ...          22        1193\n",
              "3              3      London  ...          14        1215\n",
              "4              4  Bratislava  ...          15        1151\n",
              "\n",
              "[5 rows x 16 columns]"
            ]
          },
          "metadata": {
            "tags": []
          },
          "execution_count": 119
        }
      ]
    },
    {
      "cell_type": "markdown",
      "metadata": {
        "id": "LpiXrF84q3yJ"
      },
      "source": [
        "перед последним штрихом посмотрим на корреляции между числовыми столбцами, чтобы исключить высококоррелированные."
      ]
    },
    {
      "cell_type": "code",
      "metadata": {
        "colab": {
          "base_uri": "https://localhost:8080/",
          "height": 317
        },
        "id": "CCB6jYoEq4va",
        "outputId": "2e028e9a-815b-40d4-ea08-657918bc8479"
      },
      "source": [
        "corr_matrix = data.drop(columns=['Restaurant_id', 'sample']).corr(method='pearson')\n",
        "corr_matrix"
      ],
      "execution_count": 121,
      "outputs": [
        {
          "output_type": "execute_result",
          "data": {
            "text/html": [
              "<div>\n",
              "<style scoped>\n",
              "    .dataframe tbody tr th:only-of-type {\n",
              "        vertical-align: middle;\n",
              "    }\n",
              "\n",
              "    .dataframe tbody tr th {\n",
              "        vertical-align: top;\n",
              "    }\n",
              "\n",
              "    .dataframe thead th {\n",
              "        text-align: right;\n",
              "    }\n",
              "</style>\n",
              "<table border=\"1\" class=\"dataframe\">\n",
              "  <thead>\n",
              "    <tr style=\"text-align: right;\">\n",
              "      <th></th>\n",
              "      <th>Ranking</th>\n",
              "      <th>Number of Reviews</th>\n",
              "      <th>Rating</th>\n",
              "      <th>Price_Range</th>\n",
              "      <th>code_Cuisine Style</th>\n",
              "      <th>IS_NET</th>\n",
              "      <th>Cuisine Rating</th>\n",
              "      <th>Review_dist</th>\n",
              "      <th>Review_age</th>\n",
              "    </tr>\n",
              "  </thead>\n",
              "  <tbody>\n",
              "    <tr>\n",
              "      <th>Ranking</th>\n",
              "      <td>1.000000</td>\n",
              "      <td>-0.407948</td>\n",
              "      <td>-0.168661</td>\n",
              "      <td>-0.042870</td>\n",
              "      <td>0.166506</td>\n",
              "      <td>-0.411709</td>\n",
              "      <td>-0.534237</td>\n",
              "      <td>0.109098</td>\n",
              "      <td>-0.061655</td>\n",
              "    </tr>\n",
              "    <tr>\n",
              "      <th>Number of Reviews</th>\n",
              "      <td>-0.407948</td>\n",
              "      <td>1.000000</td>\n",
              "      <td>0.011041</td>\n",
              "      <td>0.107735</td>\n",
              "      <td>-0.090932</td>\n",
              "      <td>0.176388</td>\n",
              "      <td>0.413032</td>\n",
              "      <td>-0.087328</td>\n",
              "      <td>0.032736</td>\n",
              "    </tr>\n",
              "    <tr>\n",
              "      <th>Rating</th>\n",
              "      <td>-0.168661</td>\n",
              "      <td>0.011041</td>\n",
              "      <td>1.000000</td>\n",
              "      <td>-0.012169</td>\n",
              "      <td>-0.007384</td>\n",
              "      <td>0.340596</td>\n",
              "      <td>0.037270</td>\n",
              "      <td>-0.025965</td>\n",
              "      <td>-0.006942</td>\n",
              "    </tr>\n",
              "    <tr>\n",
              "      <th>Price_Range</th>\n",
              "      <td>-0.042870</td>\n",
              "      <td>0.107735</td>\n",
              "      <td>-0.012169</td>\n",
              "      <td>1.000000</td>\n",
              "      <td>0.108344</td>\n",
              "      <td>0.023909</td>\n",
              "      <td>0.107820</td>\n",
              "      <td>-0.035002</td>\n",
              "      <td>-0.056360</td>\n",
              "    </tr>\n",
              "    <tr>\n",
              "      <th>code_Cuisine Style</th>\n",
              "      <td>0.166506</td>\n",
              "      <td>-0.090932</td>\n",
              "      <td>-0.007384</td>\n",
              "      <td>0.108344</td>\n",
              "      <td>1.000000</td>\n",
              "      <td>-0.046807</td>\n",
              "      <td>-0.095370</td>\n",
              "      <td>0.019213</td>\n",
              "      <td>-0.070525</td>\n",
              "    </tr>\n",
              "    <tr>\n",
              "      <th>IS_NET</th>\n",
              "      <td>-0.411709</td>\n",
              "      <td>0.176388</td>\n",
              "      <td>0.340596</td>\n",
              "      <td>0.023909</td>\n",
              "      <td>-0.046807</td>\n",
              "      <td>1.000000</td>\n",
              "      <td>0.265425</td>\n",
              "      <td>-0.048965</td>\n",
              "      <td>0.007213</td>\n",
              "    </tr>\n",
              "    <tr>\n",
              "      <th>Cuisine Rating</th>\n",
              "      <td>-0.534237</td>\n",
              "      <td>0.413032</td>\n",
              "      <td>0.037270</td>\n",
              "      <td>0.107820</td>\n",
              "      <td>-0.095370</td>\n",
              "      <td>0.265425</td>\n",
              "      <td>1.000000</td>\n",
              "      <td>-0.133480</td>\n",
              "      <td>0.036989</td>\n",
              "    </tr>\n",
              "    <tr>\n",
              "      <th>Review_dist</th>\n",
              "      <td>0.109098</td>\n",
              "      <td>-0.087328</td>\n",
              "      <td>-0.025965</td>\n",
              "      <td>-0.035002</td>\n",
              "      <td>0.019213</td>\n",
              "      <td>-0.048965</td>\n",
              "      <td>-0.133480</td>\n",
              "      <td>1.000000</td>\n",
              "      <td>0.232338</td>\n",
              "    </tr>\n",
              "    <tr>\n",
              "      <th>Review_age</th>\n",
              "      <td>-0.061655</td>\n",
              "      <td>0.032736</td>\n",
              "      <td>-0.006942</td>\n",
              "      <td>-0.056360</td>\n",
              "      <td>-0.070525</td>\n",
              "      <td>0.007213</td>\n",
              "      <td>0.036989</td>\n",
              "      <td>0.232338</td>\n",
              "      <td>1.000000</td>\n",
              "    </tr>\n",
              "  </tbody>\n",
              "</table>\n",
              "</div>"
            ],
            "text/plain": [
              "                     Ranking  Number of Reviews  ...  Review_dist  Review_age\n",
              "Ranking             1.000000          -0.407948  ...     0.109098   -0.061655\n",
              "Number of Reviews  -0.407948           1.000000  ...    -0.087328    0.032736\n",
              "Rating             -0.168661           0.011041  ...    -0.025965   -0.006942\n",
              "Price_Range        -0.042870           0.107735  ...    -0.035002   -0.056360\n",
              "code_Cuisine Style  0.166506          -0.090932  ...     0.019213   -0.070525\n",
              "IS_NET             -0.411709           0.176388  ...    -0.048965    0.007213\n",
              "Cuisine Rating     -0.534237           0.413032  ...    -0.133480    0.036989\n",
              "Review_dist         0.109098          -0.087328  ...     1.000000    0.232338\n",
              "Review_age         -0.061655           0.032736  ...     0.232338    1.000000\n",
              "\n",
              "[9 rows x 9 columns]"
            ]
          },
          "metadata": {
            "tags": []
          },
          "execution_count": 121
        }
      ]
    },
    {
      "cell_type": "markdown",
      "metadata": {
        "id": "lvM7276Sr4mu"
      },
      "source": [
        " чтобы было проще искать - отфильтруем все корреляции больше 0.7 по модулю"
      ]
    },
    {
      "cell_type": "code",
      "metadata": {
        "colab": {
          "base_uri": "https://localhost:8080/",
          "height": 317
        },
        "id": "4ocgAN8Dr5ps",
        "outputId": "0365e7de-754c-4ab8-d765-7540e10c6a59"
      },
      "source": [
        "corr_matrix[(corr_matrix > 0.7) | (corr_matrix < -0.7)].fillna('')"
      ],
      "execution_count": 122,
      "outputs": [
        {
          "output_type": "execute_result",
          "data": {
            "text/html": [
              "<div>\n",
              "<style scoped>\n",
              "    .dataframe tbody tr th:only-of-type {\n",
              "        vertical-align: middle;\n",
              "    }\n",
              "\n",
              "    .dataframe tbody tr th {\n",
              "        vertical-align: top;\n",
              "    }\n",
              "\n",
              "    .dataframe thead th {\n",
              "        text-align: right;\n",
              "    }\n",
              "</style>\n",
              "<table border=\"1\" class=\"dataframe\">\n",
              "  <thead>\n",
              "    <tr style=\"text-align: right;\">\n",
              "      <th></th>\n",
              "      <th>Ranking</th>\n",
              "      <th>Number of Reviews</th>\n",
              "      <th>Rating</th>\n",
              "      <th>Price_Range</th>\n",
              "      <th>code_Cuisine Style</th>\n",
              "      <th>IS_NET</th>\n",
              "      <th>Cuisine Rating</th>\n",
              "      <th>Review_dist</th>\n",
              "      <th>Review_age</th>\n",
              "    </tr>\n",
              "  </thead>\n",
              "  <tbody>\n",
              "    <tr>\n",
              "      <th>Ranking</th>\n",
              "      <td>1</td>\n",
              "      <td></td>\n",
              "      <td></td>\n",
              "      <td></td>\n",
              "      <td></td>\n",
              "      <td></td>\n",
              "      <td></td>\n",
              "      <td></td>\n",
              "      <td></td>\n",
              "    </tr>\n",
              "    <tr>\n",
              "      <th>Number of Reviews</th>\n",
              "      <td></td>\n",
              "      <td>1</td>\n",
              "      <td></td>\n",
              "      <td></td>\n",
              "      <td></td>\n",
              "      <td></td>\n",
              "      <td></td>\n",
              "      <td></td>\n",
              "      <td></td>\n",
              "    </tr>\n",
              "    <tr>\n",
              "      <th>Rating</th>\n",
              "      <td></td>\n",
              "      <td></td>\n",
              "      <td>1</td>\n",
              "      <td></td>\n",
              "      <td></td>\n",
              "      <td></td>\n",
              "      <td></td>\n",
              "      <td></td>\n",
              "      <td></td>\n",
              "    </tr>\n",
              "    <tr>\n",
              "      <th>Price_Range</th>\n",
              "      <td></td>\n",
              "      <td></td>\n",
              "      <td></td>\n",
              "      <td>1</td>\n",
              "      <td></td>\n",
              "      <td></td>\n",
              "      <td></td>\n",
              "      <td></td>\n",
              "      <td></td>\n",
              "    </tr>\n",
              "    <tr>\n",
              "      <th>code_Cuisine Style</th>\n",
              "      <td></td>\n",
              "      <td></td>\n",
              "      <td></td>\n",
              "      <td></td>\n",
              "      <td>1</td>\n",
              "      <td></td>\n",
              "      <td></td>\n",
              "      <td></td>\n",
              "      <td></td>\n",
              "    </tr>\n",
              "    <tr>\n",
              "      <th>IS_NET</th>\n",
              "      <td></td>\n",
              "      <td></td>\n",
              "      <td></td>\n",
              "      <td></td>\n",
              "      <td></td>\n",
              "      <td>1</td>\n",
              "      <td></td>\n",
              "      <td></td>\n",
              "      <td></td>\n",
              "    </tr>\n",
              "    <tr>\n",
              "      <th>Cuisine Rating</th>\n",
              "      <td></td>\n",
              "      <td></td>\n",
              "      <td></td>\n",
              "      <td></td>\n",
              "      <td></td>\n",
              "      <td></td>\n",
              "      <td>1</td>\n",
              "      <td></td>\n",
              "      <td></td>\n",
              "    </tr>\n",
              "    <tr>\n",
              "      <th>Review_dist</th>\n",
              "      <td></td>\n",
              "      <td></td>\n",
              "      <td></td>\n",
              "      <td></td>\n",
              "      <td></td>\n",
              "      <td></td>\n",
              "      <td></td>\n",
              "      <td>1</td>\n",
              "      <td></td>\n",
              "    </tr>\n",
              "    <tr>\n",
              "      <th>Review_age</th>\n",
              "      <td></td>\n",
              "      <td></td>\n",
              "      <td></td>\n",
              "      <td></td>\n",
              "      <td></td>\n",
              "      <td></td>\n",
              "      <td></td>\n",
              "      <td></td>\n",
              "      <td>1</td>\n",
              "    </tr>\n",
              "  </tbody>\n",
              "</table>\n",
              "</div>"
            ],
            "text/plain": [
              "                   Ranking Number of Reviews  ... Review_dist Review_age\n",
              "Ranking                  1                    ...                       \n",
              "Number of Reviews                          1  ...                       \n",
              "Rating                                        ...                       \n",
              "Price_Range                                   ...                       \n",
              "code_Cuisine Style                            ...                       \n",
              "IS_NET                                        ...                       \n",
              "Cuisine Rating                                ...                       \n",
              "Review_dist                                   ...           1           \n",
              "Review_age                                    ...                      1\n",
              "\n",
              "[9 rows x 9 columns]"
            ]
          },
          "metadata": {
            "tags": []
          },
          "execution_count": 122
        }
      ]
    },
    {
      "cell_type": "markdown",
      "metadata": {
        "id": "pMclhdRKsDZ1"
      },
      "source": [
        "Таких нет, можно спокойно проводить обучение модели.\n",
        "\n",
        "превратим столбец city в dummy-переменные, предварительно уменьшив размерность данных, заменив города с весом меньше 1% на Other"
      ]
    },
    {
      "cell_type": "code",
      "metadata": {
        "colab": {
          "base_uri": "https://localhost:8080/",
          "height": 517
        },
        "id": "jhnX6HvdsEun",
        "outputId": "d2d453f5-3d78-40a2-b1cd-3f5fe8f4fef0"
      },
      "source": [
        "data['City'] = data['City'].apply(lambda x: x if per_cities[x] > 1 else 'Other')\n",
        "data = pd.get_dummies(data, columns=['City'], prefix='City')\n",
        "data.head()"
      ],
      "execution_count": 124,
      "outputs": [
        {
          "output_type": "execute_result",
          "data": {
            "text/html": [
              "<div>\n",
              "<style scoped>\n",
              "    .dataframe tbody tr th:only-of-type {\n",
              "        vertical-align: middle;\n",
              "    }\n",
              "\n",
              "    .dataframe tbody tr th {\n",
              "        vertical-align: top;\n",
              "    }\n",
              "\n",
              "    .dataframe thead th {\n",
              "        text-align: right;\n",
              "    }\n",
              "</style>\n",
              "<table border=\"1\" class=\"dataframe\">\n",
              "  <thead>\n",
              "    <tr style=\"text-align: right;\">\n",
              "      <th></th>\n",
              "      <th>Restaurant_id</th>\n",
              "      <th>Cuisine Style</th>\n",
              "      <th>Ranking</th>\n",
              "      <th>Price Range</th>\n",
              "      <th>Number of Reviews</th>\n",
              "      <th>Reviews</th>\n",
              "      <th>sample</th>\n",
              "      <th>Rating</th>\n",
              "      <th>Price_Range</th>\n",
              "      <th>code_Cuisine Style</th>\n",
              "      <th>IS_NET</th>\n",
              "      <th>Cuisine Rating</th>\n",
              "      <th>Review_dates</th>\n",
              "      <th>Review_dist</th>\n",
              "      <th>Review_age</th>\n",
              "      <th>City_Amsterdam</th>\n",
              "      <th>City_Athens</th>\n",
              "      <th>City_Barcelona</th>\n",
              "      <th>City_Berlin</th>\n",
              "      <th>City_Brussels</th>\n",
              "      <th>City_Budapest</th>\n",
              "      <th>City_Copenhagen</th>\n",
              "      <th>City_Dublin</th>\n",
              "      <th>City_Edinburgh</th>\n",
              "      <th>City_Geneva</th>\n",
              "      <th>City_Hamburg</th>\n",
              "      <th>City_Krakow</th>\n",
              "      <th>City_Lisbon</th>\n",
              "      <th>City_London</th>\n",
              "      <th>City_Lyon</th>\n",
              "      <th>City_Madrid</th>\n",
              "      <th>City_Milan</th>\n",
              "      <th>City_Munich</th>\n",
              "      <th>City_Oporto</th>\n",
              "      <th>City_Other</th>\n",
              "      <th>City_Paris</th>\n",
              "      <th>City_Prague</th>\n",
              "      <th>City_Rome</th>\n",
              "      <th>City_Stockholm</th>\n",
              "      <th>City_Vienna</th>\n",
              "      <th>City_Warsaw</th>\n",
              "      <th>City_Zurich</th>\n",
              "    </tr>\n",
              "  </thead>\n",
              "  <tbody>\n",
              "    <tr>\n",
              "      <th>0</th>\n",
              "      <td>0</td>\n",
              "      <td>[Bar, Pub]</td>\n",
              "      <td>2.122299</td>\n",
              "      <td>$$ - $$$</td>\n",
              "      <td>4.0</td>\n",
              "      <td>[[], []]</td>\n",
              "      <td>0</td>\n",
              "      <td>0.0</td>\n",
              "      <td>2.0</td>\n",
              "      <td>1778</td>\n",
              "      <td>2.772589</td>\n",
              "      <td>0.054499</td>\n",
              "      <td>[]</td>\n",
              "      <td>0</td>\n",
              "      <td>0</td>\n",
              "      <td>0</td>\n",
              "      <td>0</td>\n",
              "      <td>0</td>\n",
              "      <td>0</td>\n",
              "      <td>0</td>\n",
              "      <td>0</td>\n",
              "      <td>0</td>\n",
              "      <td>0</td>\n",
              "      <td>0</td>\n",
              "      <td>0</td>\n",
              "      <td>0</td>\n",
              "      <td>0</td>\n",
              "      <td>0</td>\n",
              "      <td>0</td>\n",
              "      <td>0</td>\n",
              "      <td>0</td>\n",
              "      <td>0</td>\n",
              "      <td>0</td>\n",
              "      <td>0</td>\n",
              "      <td>0</td>\n",
              "      <td>1</td>\n",
              "      <td>0</td>\n",
              "      <td>0</td>\n",
              "      <td>0</td>\n",
              "      <td>0</td>\n",
              "      <td>0</td>\n",
              "      <td>0</td>\n",
              "    </tr>\n",
              "    <tr>\n",
              "      <th>1</th>\n",
              "      <td>1</td>\n",
              "      <td>[European, Scandinavian, Gluten Free Options, ...</td>\n",
              "      <td>0.223158</td>\n",
              "      <td>$$ - $$$</td>\n",
              "      <td>97.0</td>\n",
              "      <td>[['Very good reviews!', 'Fine dining in Hakani...</td>\n",
              "      <td>0</td>\n",
              "      <td>0.0</td>\n",
              "      <td>2.0</td>\n",
              "      <td>4076</td>\n",
              "      <td>2.302585</td>\n",
              "      <td>0.288714</td>\n",
              "      <td>[2017-10-29 00:00:00, 2017-12-05 00:00:00]</td>\n",
              "      <td>37</td>\n",
              "      <td>1216</td>\n",
              "      <td>0</td>\n",
              "      <td>0</td>\n",
              "      <td>0</td>\n",
              "      <td>0</td>\n",
              "      <td>0</td>\n",
              "      <td>0</td>\n",
              "      <td>0</td>\n",
              "      <td>0</td>\n",
              "      <td>0</td>\n",
              "      <td>0</td>\n",
              "      <td>0</td>\n",
              "      <td>0</td>\n",
              "      <td>0</td>\n",
              "      <td>0</td>\n",
              "      <td>0</td>\n",
              "      <td>0</td>\n",
              "      <td>0</td>\n",
              "      <td>0</td>\n",
              "      <td>0</td>\n",
              "      <td>1</td>\n",
              "      <td>0</td>\n",
              "      <td>0</td>\n",
              "      <td>0</td>\n",
              "      <td>0</td>\n",
              "      <td>0</td>\n",
              "      <td>0</td>\n",
              "      <td>0</td>\n",
              "    </tr>\n",
              "    <tr>\n",
              "      <th>2</th>\n",
              "      <td>2</td>\n",
              "      <td>[Vegetarian Friendly]</td>\n",
              "      <td>1.087248</td>\n",
              "      <td>$$ - $$$</td>\n",
              "      <td>28.0</td>\n",
              "      <td>[['Better than the Links', 'Ivy Black'], ['12/...</td>\n",
              "      <td>0</td>\n",
              "      <td>0.0</td>\n",
              "      <td>2.0</td>\n",
              "      <td>10661</td>\n",
              "      <td>2.708050</td>\n",
              "      <td>0.106811</td>\n",
              "      <td>[2017-12-06 00:00:00, 2017-12-28 00:00:00]</td>\n",
              "      <td>22</td>\n",
              "      <td>1193</td>\n",
              "      <td>0</td>\n",
              "      <td>0</td>\n",
              "      <td>0</td>\n",
              "      <td>0</td>\n",
              "      <td>0</td>\n",
              "      <td>0</td>\n",
              "      <td>0</td>\n",
              "      <td>0</td>\n",
              "      <td>1</td>\n",
              "      <td>0</td>\n",
              "      <td>0</td>\n",
              "      <td>0</td>\n",
              "      <td>0</td>\n",
              "      <td>0</td>\n",
              "      <td>0</td>\n",
              "      <td>0</td>\n",
              "      <td>0</td>\n",
              "      <td>0</td>\n",
              "      <td>0</td>\n",
              "      <td>0</td>\n",
              "      <td>0</td>\n",
              "      <td>0</td>\n",
              "      <td>0</td>\n",
              "      <td>0</td>\n",
              "      <td>0</td>\n",
              "      <td>0</td>\n",
              "      <td>0</td>\n",
              "    </tr>\n",
              "    <tr>\n",
              "      <th>3</th>\n",
              "      <td>3</td>\n",
              "      <td>[Italian, Mediterranean, European, Vegetarian ...</td>\n",
              "      <td>0.232031</td>\n",
              "      <td>$$$$</td>\n",
              "      <td>202.0</td>\n",
              "      <td>[['Most exquisite', 'Delicious and authentic']...</td>\n",
              "      <td>0</td>\n",
              "      <td>0.0</td>\n",
              "      <td>3.0</td>\n",
              "      <td>7110</td>\n",
              "      <td>2.197225</td>\n",
              "      <td>0.358196</td>\n",
              "      <td>[2017-11-22 00:00:00, 2017-12-06 00:00:00]</td>\n",
              "      <td>14</td>\n",
              "      <td>1215</td>\n",
              "      <td>0</td>\n",
              "      <td>0</td>\n",
              "      <td>0</td>\n",
              "      <td>0</td>\n",
              "      <td>0</td>\n",
              "      <td>0</td>\n",
              "      <td>0</td>\n",
              "      <td>0</td>\n",
              "      <td>0</td>\n",
              "      <td>0</td>\n",
              "      <td>0</td>\n",
              "      <td>0</td>\n",
              "      <td>0</td>\n",
              "      <td>1</td>\n",
              "      <td>0</td>\n",
              "      <td>0</td>\n",
              "      <td>0</td>\n",
              "      <td>0</td>\n",
              "      <td>0</td>\n",
              "      <td>0</td>\n",
              "      <td>0</td>\n",
              "      <td>0</td>\n",
              "      <td>0</td>\n",
              "      <td>0</td>\n",
              "      <td>0</td>\n",
              "      <td>0</td>\n",
              "      <td>0</td>\n",
              "    </tr>\n",
              "    <tr>\n",
              "      <th>4</th>\n",
              "      <td>4</td>\n",
              "      <td>[Italian, Mediterranean, European, Seafood, Ve...</td>\n",
              "      <td>0.097368</td>\n",
              "      <td>$$$$</td>\n",
              "      <td>162.0</td>\n",
              "      <td>[['Always the best in bratislava', 'Very good ...</td>\n",
              "      <td>0</td>\n",
              "      <td>0.0</td>\n",
              "      <td>3.0</td>\n",
              "      <td>7094</td>\n",
              "      <td>2.639057</td>\n",
              "      <td>0.372501</td>\n",
              "      <td>[2018-01-24 00:00:00, 2018-02-08 00:00:00]</td>\n",
              "      <td>15</td>\n",
              "      <td>1151</td>\n",
              "      <td>0</td>\n",
              "      <td>0</td>\n",
              "      <td>0</td>\n",
              "      <td>0</td>\n",
              "      <td>0</td>\n",
              "      <td>0</td>\n",
              "      <td>0</td>\n",
              "      <td>0</td>\n",
              "      <td>0</td>\n",
              "      <td>0</td>\n",
              "      <td>0</td>\n",
              "      <td>0</td>\n",
              "      <td>0</td>\n",
              "      <td>0</td>\n",
              "      <td>0</td>\n",
              "      <td>0</td>\n",
              "      <td>0</td>\n",
              "      <td>0</td>\n",
              "      <td>0</td>\n",
              "      <td>1</td>\n",
              "      <td>0</td>\n",
              "      <td>0</td>\n",
              "      <td>0</td>\n",
              "      <td>0</td>\n",
              "      <td>0</td>\n",
              "      <td>0</td>\n",
              "      <td>0</td>\n",
              "    </tr>\n",
              "  </tbody>\n",
              "</table>\n",
              "</div>"
            ],
            "text/plain": [
              "   Restaurant_id  ... City_Zurich\n",
              "0              0  ...           0\n",
              "1              1  ...           0\n",
              "2              2  ...           0\n",
              "3              3  ...           0\n",
              "4              4  ...           0\n",
              "\n",
              "[5 rows x 42 columns]"
            ]
          },
          "metadata": {
            "tags": []
          },
          "execution_count": 124
        }
      ]
    },
    {
      "cell_type": "markdown",
      "metadata": {
        "id": "IOUqSJcGIK1b"
      },
      "source": [
        "# Data Preprocessing\n",
        "Теперь, для удобства и воспроизводимости кода, завернем всю обработку в одну большую функцию."
      ]
    },
    {
      "cell_type": "code",
      "metadata": {
        "id": "DS_JEI5JIK1g"
      },
      "source": [
        "# Теперь выделим тестовую часть\n",
        "train_data = data[data['sample'] == 1].drop(columns=['Restaurant_id', 'Cuisine Style', 'Price Range', 'Reviews', 'Review_dates', 'sample'])\n",
        "test_data = data[data['sample'] == 1].drop(columns=['Restaurant_id', 'Cuisine Style', 'Price Range', 'Reviews', 'Review_dates', 'sample'])\n",
        "\n",
        "y = train_data.Rating.values            # наш таргет\n",
        "X = train_data.drop(['Rating'], axis=1)"
      ],
      "execution_count": 125,
      "outputs": []
    },
    {
      "cell_type": "markdown",
      "metadata": {
        "id": "xccjOqYqIK1g"
      },
      "source": [
        "**Перед тем как отправлять наши данные на обучение, разделим данные на еще один тест и трейн, для валидации. \n",
        "Это поможет нам проверить, как хорошо наша модель работает, до отправки submissiona на kaggle.**"
      ]
    },
    {
      "cell_type": "code",
      "metadata": {
        "id": "rpt6WfgOIK1h"
      },
      "source": [
        "# Воспользуемся специальной функцие train_test_split для разбивки тестовых данных\n",
        "# выделим 20% данных на валидацию (параметр test_size)\n",
        "X_train, X_test, y_train, y_test = train_test_split(X, y, test_size=0.2, random_state=RANDOM_SEED)"
      ],
      "execution_count": 126,
      "outputs": []
    },
    {
      "cell_type": "code",
      "metadata": {
        "id": "uBPOSPsVIK1h",
        "colab": {
          "base_uri": "https://localhost:8080/"
        },
        "outputId": "e2fcf86b-5226-4487-bed9-f5b8970b5fc2"
      },
      "source": [
        "# проверяем\n",
        "test_data.shape, train_data.shape, X.shape, X_train.shape, X_test.shape"
      ],
      "execution_count": 127,
      "outputs": [
        {
          "output_type": "execute_result",
          "data": {
            "text/plain": [
              "((39980, 36), (39980, 36), (39980, 35), (31984, 35), (7996, 35))"
            ]
          },
          "metadata": {
            "tags": []
          },
          "execution_count": 127
        }
      ]
    },
    {
      "cell_type": "markdown",
      "metadata": {
        "id": "t6OTnWorIK1i"
      },
      "source": [
        "# Model \n",
        "Сам ML"
      ]
    },
    {
      "cell_type": "code",
      "metadata": {
        "id": "PRSAhHHeIK1i"
      },
      "source": [
        "# Импортируем необходимые библиотеки:\n",
        "from sklearn.ensemble import RandomForestRegressor # инструмент для создания и обучения модели\n",
        "from sklearn import metrics # инструменты для оценки точности модели"
      ],
      "execution_count": 128,
      "outputs": []
    },
    {
      "cell_type": "code",
      "metadata": {
        "id": "WxcJ4LSNIK1i"
      },
      "source": [
        "# Создаём модель (НАСТРОЙКИ НЕ ТРОГАЕМ)\n",
        "model = RandomForestRegressor(n_estimators=100, verbose=1, n_jobs=-1, random_state=RANDOM_SEED)"
      ],
      "execution_count": 129,
      "outputs": []
    },
    {
      "cell_type": "code",
      "metadata": {
        "id": "fOTF6FdvIK1j",
        "colab": {
          "base_uri": "https://localhost:8080/"
        },
        "outputId": "23b31cdb-3aaf-4e42-df83-6aafb34eb934"
      },
      "source": [
        "# Обучаем модель на тестовом наборе данных\n",
        "model.fit(X_train, y_train)\n",
        "\n",
        "# Используем обученную модель для предсказания рейтинга ресторанов в тестовой выборке.\n",
        "# Предсказанные значения записываем в переменную y_pred\n",
        "y_pred = model.predict(X_test)"
      ],
      "execution_count": 130,
      "outputs": [
        {
          "output_type": "stream",
          "text": [
            "[Parallel(n_jobs=-1)]: Using backend ThreadingBackend with 2 concurrent workers.\n",
            "[Parallel(n_jobs=-1)]: Done  46 tasks      | elapsed:    7.4s\n",
            "[Parallel(n_jobs=-1)]: Done 100 out of 100 | elapsed:   16.1s finished\n",
            "[Parallel(n_jobs=2)]: Using backend ThreadingBackend with 2 concurrent workers.\n",
            "[Parallel(n_jobs=2)]: Done  46 tasks      | elapsed:    0.1s\n",
            "[Parallel(n_jobs=2)]: Done 100 out of 100 | elapsed:    0.1s finished\n"
          ],
          "name": "stderr"
        }
      ]
    },
    {
      "cell_type": "code",
      "metadata": {
        "id": "lwVI9Q9SIK1j",
        "colab": {
          "base_uri": "https://localhost:8080/"
        },
        "outputId": "86067eb4-7e3a-4b62-f4dc-0b24a3ce6dbd"
      },
      "source": [
        "# Сравниваем предсказанные значения (y_pred) с реальными (y_test), и смотрим насколько они в среднем отличаются\n",
        "# Метрика называется Mean Absolute Error (MAE) и показывает среднее отклонение предсказанных значений от фактических.\n",
        "print('MAE:', metrics.mean_absolute_error(y_test, y_pred))"
      ],
      "execution_count": 131,
      "outputs": [
        {
          "output_type": "stream",
          "text": [
            "MAE: 0.20890445222611306\n"
          ],
          "name": "stdout"
        }
      ]
    },
    {
      "cell_type": "code",
      "metadata": {
        "colab": {
          "base_uri": "https://localhost:8080/"
        },
        "id": "o_uk87X2vFjs",
        "outputId": "fcd13418-7def-4e29-cab2-a05bddfe94e4"
      },
      "source": [
        "y_pred_rnd = round_pred(y_pred)\n",
        "print('MAE:', metrics.mean_absolute_error(y_test, y_pred_rnd))"
      ],
      "execution_count": 139,
      "outputs": [
        {
          "output_type": "stream",
          "text": [
            "MAE: 0.17902701350675337\n"
          ],
          "name": "stdout"
        }
      ]
    },
    {
      "cell_type": "code",
      "metadata": {
        "id": "YvKFI0kGIK1k",
        "colab": {
          "base_uri": "https://localhost:8080/",
          "height": 610
        },
        "outputId": "f6c5d987-b0c3-4ce8-f93d-e1ef1ddfeb6b"
      },
      "source": [
        "# в RandomForestRegressor есть возможность вывести самые важные признаки для модели\n",
        "plt.rcParams['figure.figsize'] = (10,10)\n",
        "feat_importances = pd.Series(model.feature_importances_, index=X.columns)\n",
        "feat_importances.nlargest(15).plot(kind='barh')"
      ],
      "execution_count": 140,
      "outputs": [
        {
          "output_type": "execute_result",
          "data": {
            "text/plain": [
              "<matplotlib.axes._subplots.AxesSubplot at 0x7f10df20bd50>"
            ]
          },
          "metadata": {
            "tags": []
          },
          "execution_count": 140
        },
        {
          "output_type": "display_data",
          "data": {
            "image/png": "[encoded data removed]",
            "text/plain": [
              "<Figure size 720x720 with 1 Axes>"
            ]
          },
          "metadata": {
            "tags": [],
            "needs_background": "light"
          }
        }
      ]
    },
    {
      "cell_type": "markdown",
      "metadata": {
        "id": "VJ5t9JZCIK1k"
      },
      "source": [
        "# Submission\n",
        "Если все устраевает - готовим Submission на кагл"
      ]
    },
    {
      "cell_type": "code",
      "metadata": {
        "id": "fcO9LSsaIK1k",
        "colab": {
          "base_uri": "https://localhost:8080/",
          "height": 401
        },
        "outputId": "2f8b73ef-ad13-4aee-8d8a-55d1859c296f"
      },
      "source": [
        "test_data.sample(10)"
      ],
      "execution_count": 141,
      "outputs": [
        {
          "output_type": "execute_result",
          "data": {
            "text/html": [
              "<div>\n",
              "<style scoped>\n",
              "    .dataframe tbody tr th:only-of-type {\n",
              "        vertical-align: middle;\n",
              "    }\n",
              "\n",
              "    .dataframe tbody tr th {\n",
              "        vertical-align: top;\n",
              "    }\n",
              "\n",
              "    .dataframe thead th {\n",
              "        text-align: right;\n",
              "    }\n",
              "</style>\n",
              "<table border=\"1\" class=\"dataframe\">\n",
              "  <thead>\n",
              "    <tr style=\"text-align: right;\">\n",
              "      <th></th>\n",
              "      <th>Ranking</th>\n",
              "      <th>Number of Reviews</th>\n",
              "      <th>Price_Range</th>\n",
              "      <th>code_Cuisine Style</th>\n",
              "      <th>IS_NET</th>\n",
              "      <th>Cuisine Rating</th>\n",
              "      <th>Review_dist</th>\n",
              "      <th>Review_age</th>\n",
              "      <th>City_Amsterdam</th>\n",
              "      <th>City_Athens</th>\n",
              "      <th>City_Barcelona</th>\n",
              "      <th>City_Berlin</th>\n",
              "      <th>City_Brussels</th>\n",
              "      <th>City_Budapest</th>\n",
              "      <th>City_Copenhagen</th>\n",
              "      <th>City_Dublin</th>\n",
              "      <th>City_Edinburgh</th>\n",
              "      <th>City_Geneva</th>\n",
              "      <th>City_Hamburg</th>\n",
              "      <th>City_Krakow</th>\n",
              "      <th>City_Lisbon</th>\n",
              "      <th>City_London</th>\n",
              "      <th>City_Lyon</th>\n",
              "      <th>City_Madrid</th>\n",
              "      <th>City_Milan</th>\n",
              "      <th>City_Munich</th>\n",
              "      <th>City_Oporto</th>\n",
              "      <th>City_Other</th>\n",
              "      <th>City_Paris</th>\n",
              "      <th>City_Prague</th>\n",
              "      <th>City_Rome</th>\n",
              "      <th>City_Stockholm</th>\n",
              "      <th>City_Vienna</th>\n",
              "      <th>City_Warsaw</th>\n",
              "      <th>City_Zurich</th>\n",
              "    </tr>\n",
              "  </thead>\n",
              "  <tbody>\n",
              "    <tr>\n",
              "      <th>29205</th>\n",
              "      <td>1.235998</td>\n",
              "      <td>44.0</td>\n",
              "      <td>2.0</td>\n",
              "      <td>9173</td>\n",
              "      <td>2.079442</td>\n",
              "      <td>0.088299</td>\n",
              "      <td>106</td>\n",
              "      <td>1423</td>\n",
              "      <td>0</td>\n",
              "      <td>0</td>\n",
              "      <td>0</td>\n",
              "      <td>0</td>\n",
              "      <td>0</td>\n",
              "      <td>0</td>\n",
              "      <td>0</td>\n",
              "      <td>0</td>\n",
              "      <td>0</td>\n",
              "      <td>0</td>\n",
              "      <td>0</td>\n",
              "      <td>0</td>\n",
              "      <td>0</td>\n",
              "      <td>0</td>\n",
              "      <td>0</td>\n",
              "      <td>0</td>\n",
              "      <td>0</td>\n",
              "      <td>0</td>\n",
              "      <td>0</td>\n",
              "      <td>0</td>\n",
              "      <td>0</td>\n",
              "      <td>0</td>\n",
              "      <td>1</td>\n",
              "      <td>0</td>\n",
              "      <td>0</td>\n",
              "      <td>0</td>\n",
              "      <td>0</td>\n",
              "    </tr>\n",
              "    <tr>\n",
              "      <th>14384</th>\n",
              "      <td>0.365936</td>\n",
              "      <td>13.0</td>\n",
              "      <td>2.0</td>\n",
              "      <td>7043</td>\n",
              "      <td>2.484907</td>\n",
              "      <td>0.245700</td>\n",
              "      <td>0</td>\n",
              "      <td>1336</td>\n",
              "      <td>0</td>\n",
              "      <td>0</td>\n",
              "      <td>0</td>\n",
              "      <td>0</td>\n",
              "      <td>0</td>\n",
              "      <td>0</td>\n",
              "      <td>0</td>\n",
              "      <td>0</td>\n",
              "      <td>0</td>\n",
              "      <td>0</td>\n",
              "      <td>1</td>\n",
              "      <td>0</td>\n",
              "      <td>0</td>\n",
              "      <td>0</td>\n",
              "      <td>0</td>\n",
              "      <td>0</td>\n",
              "      <td>0</td>\n",
              "      <td>0</td>\n",
              "      <td>0</td>\n",
              "      <td>0</td>\n",
              "      <td>0</td>\n",
              "      <td>0</td>\n",
              "      <td>0</td>\n",
              "      <td>0</td>\n",
              "      <td>0</td>\n",
              "      <td>0</td>\n",
              "      <td>0</td>\n",
              "    </tr>\n",
              "    <tr>\n",
              "      <th>41307</th>\n",
              "      <td>1.978749</td>\n",
              "      <td>230.0</td>\n",
              "      <td>2.0</td>\n",
              "      <td>6756</td>\n",
              "      <td>1.945910</td>\n",
              "      <td>0.162895</td>\n",
              "      <td>14</td>\n",
              "      <td>1173</td>\n",
              "      <td>0</td>\n",
              "      <td>0</td>\n",
              "      <td>0</td>\n",
              "      <td>0</td>\n",
              "      <td>0</td>\n",
              "      <td>0</td>\n",
              "      <td>0</td>\n",
              "      <td>0</td>\n",
              "      <td>0</td>\n",
              "      <td>0</td>\n",
              "      <td>0</td>\n",
              "      <td>0</td>\n",
              "      <td>1</td>\n",
              "      <td>0</td>\n",
              "      <td>0</td>\n",
              "      <td>0</td>\n",
              "      <td>0</td>\n",
              "      <td>0</td>\n",
              "      <td>0</td>\n",
              "      <td>0</td>\n",
              "      <td>0</td>\n",
              "      <td>0</td>\n",
              "      <td>0</td>\n",
              "      <td>0</td>\n",
              "      <td>0</td>\n",
              "      <td>0</td>\n",
              "      <td>0</td>\n",
              "    </tr>\n",
              "    <tr>\n",
              "      <th>47287</th>\n",
              "      <td>1.950925</td>\n",
              "      <td>23.0</td>\n",
              "      <td>2.0</td>\n",
              "      <td>7491</td>\n",
              "      <td>0.000000</td>\n",
              "      <td>0.083330</td>\n",
              "      <td>30</td>\n",
              "      <td>1278</td>\n",
              "      <td>0</td>\n",
              "      <td>0</td>\n",
              "      <td>0</td>\n",
              "      <td>0</td>\n",
              "      <td>0</td>\n",
              "      <td>0</td>\n",
              "      <td>0</td>\n",
              "      <td>0</td>\n",
              "      <td>0</td>\n",
              "      <td>0</td>\n",
              "      <td>0</td>\n",
              "      <td>0</td>\n",
              "      <td>0</td>\n",
              "      <td>1</td>\n",
              "      <td>0</td>\n",
              "      <td>0</td>\n",
              "      <td>0</td>\n",
              "      <td>0</td>\n",
              "      <td>0</td>\n",
              "      <td>0</td>\n",
              "      <td>0</td>\n",
              "      <td>0</td>\n",
              "      <td>0</td>\n",
              "      <td>0</td>\n",
              "      <td>0</td>\n",
              "      <td>0</td>\n",
              "      <td>0</td>\n",
              "    </tr>\n",
              "    <tr>\n",
              "      <th>23570</th>\n",
              "      <td>1.556007</td>\n",
              "      <td>2.0</td>\n",
              "      <td>2.0</td>\n",
              "      <td>10496</td>\n",
              "      <td>1.098612</td>\n",
              "      <td>0.011051</td>\n",
              "      <td>0</td>\n",
              "      <td>0</td>\n",
              "      <td>0</td>\n",
              "      <td>0</td>\n",
              "      <td>0</td>\n",
              "      <td>1</td>\n",
              "      <td>0</td>\n",
              "      <td>0</td>\n",
              "      <td>0</td>\n",
              "      <td>0</td>\n",
              "      <td>0</td>\n",
              "      <td>0</td>\n",
              "      <td>0</td>\n",
              "      <td>0</td>\n",
              "      <td>0</td>\n",
              "      <td>0</td>\n",
              "      <td>0</td>\n",
              "      <td>0</td>\n",
              "      <td>0</td>\n",
              "      <td>0</td>\n",
              "      <td>0</td>\n",
              "      <td>0</td>\n",
              "      <td>0</td>\n",
              "      <td>0</td>\n",
              "      <td>0</td>\n",
              "      <td>0</td>\n",
              "      <td>0</td>\n",
              "      <td>0</td>\n",
              "      <td>0</td>\n",
              "    </tr>\n",
              "    <tr>\n",
              "      <th>32358</th>\n",
              "      <td>0.674559</td>\n",
              "      <td>28.0</td>\n",
              "      <td>2.0</td>\n",
              "      <td>5225</td>\n",
              "      <td>1.945910</td>\n",
              "      <td>0.030249</td>\n",
              "      <td>181</td>\n",
              "      <td>1189</td>\n",
              "      <td>0</td>\n",
              "      <td>0</td>\n",
              "      <td>0</td>\n",
              "      <td>0</td>\n",
              "      <td>0</td>\n",
              "      <td>0</td>\n",
              "      <td>0</td>\n",
              "      <td>0</td>\n",
              "      <td>0</td>\n",
              "      <td>0</td>\n",
              "      <td>0</td>\n",
              "      <td>0</td>\n",
              "      <td>0</td>\n",
              "      <td>0</td>\n",
              "      <td>0</td>\n",
              "      <td>0</td>\n",
              "      <td>0</td>\n",
              "      <td>0</td>\n",
              "      <td>0</td>\n",
              "      <td>0</td>\n",
              "      <td>0</td>\n",
              "      <td>1</td>\n",
              "      <td>0</td>\n",
              "      <td>0</td>\n",
              "      <td>0</td>\n",
              "      <td>0</td>\n",
              "      <td>0</td>\n",
              "    </tr>\n",
              "    <tr>\n",
              "      <th>19714</th>\n",
              "      <td>2.263116</td>\n",
              "      <td>5.0</td>\n",
              "      <td>1.0</td>\n",
              "      <td>9430</td>\n",
              "      <td>1.098612</td>\n",
              "      <td>0.026689</td>\n",
              "      <td>0</td>\n",
              "      <td>1293</td>\n",
              "      <td>0</td>\n",
              "      <td>0</td>\n",
              "      <td>0</td>\n",
              "      <td>0</td>\n",
              "      <td>0</td>\n",
              "      <td>0</td>\n",
              "      <td>0</td>\n",
              "      <td>0</td>\n",
              "      <td>0</td>\n",
              "      <td>0</td>\n",
              "      <td>0</td>\n",
              "      <td>0</td>\n",
              "      <td>0</td>\n",
              "      <td>0</td>\n",
              "      <td>0</td>\n",
              "      <td>1</td>\n",
              "      <td>0</td>\n",
              "      <td>0</td>\n",
              "      <td>0</td>\n",
              "      <td>0</td>\n",
              "      <td>0</td>\n",
              "      <td>0</td>\n",
              "      <td>0</td>\n",
              "      <td>0</td>\n",
              "      <td>0</td>\n",
              "      <td>0</td>\n",
              "      <td>0</td>\n",
              "    </tr>\n",
              "    <tr>\n",
              "      <th>14417</th>\n",
              "      <td>1.627808</td>\n",
              "      <td>66.0</td>\n",
              "      <td>1.0</td>\n",
              "      <td>9597</td>\n",
              "      <td>2.197225</td>\n",
              "      <td>0.106255</td>\n",
              "      <td>61</td>\n",
              "      <td>1323</td>\n",
              "      <td>0</td>\n",
              "      <td>0</td>\n",
              "      <td>0</td>\n",
              "      <td>0</td>\n",
              "      <td>0</td>\n",
              "      <td>0</td>\n",
              "      <td>0</td>\n",
              "      <td>0</td>\n",
              "      <td>0</td>\n",
              "      <td>0</td>\n",
              "      <td>0</td>\n",
              "      <td>0</td>\n",
              "      <td>1</td>\n",
              "      <td>0</td>\n",
              "      <td>0</td>\n",
              "      <td>0</td>\n",
              "      <td>0</td>\n",
              "      <td>0</td>\n",
              "      <td>0</td>\n",
              "      <td>0</td>\n",
              "      <td>0</td>\n",
              "      <td>0</td>\n",
              "      <td>0</td>\n",
              "      <td>0</td>\n",
              "      <td>0</td>\n",
              "      <td>0</td>\n",
              "      <td>0</td>\n",
              "    </tr>\n",
              "    <tr>\n",
              "      <th>35302</th>\n",
              "      <td>0.706756</td>\n",
              "      <td>405.0</td>\n",
              "      <td>2.0</td>\n",
              "      <td>6571</td>\n",
              "      <td>1.791759</td>\n",
              "      <td>0.197389</td>\n",
              "      <td>662</td>\n",
              "      <td>1739</td>\n",
              "      <td>0</td>\n",
              "      <td>0</td>\n",
              "      <td>0</td>\n",
              "      <td>0</td>\n",
              "      <td>0</td>\n",
              "      <td>0</td>\n",
              "      <td>0</td>\n",
              "      <td>0</td>\n",
              "      <td>0</td>\n",
              "      <td>0</td>\n",
              "      <td>0</td>\n",
              "      <td>0</td>\n",
              "      <td>0</td>\n",
              "      <td>0</td>\n",
              "      <td>0</td>\n",
              "      <td>0</td>\n",
              "      <td>1</td>\n",
              "      <td>0</td>\n",
              "      <td>0</td>\n",
              "      <td>0</td>\n",
              "      <td>0</td>\n",
              "      <td>0</td>\n",
              "      <td>0</td>\n",
              "      <td>0</td>\n",
              "      <td>0</td>\n",
              "      <td>0</td>\n",
              "      <td>0</td>\n",
              "    </tr>\n",
              "    <tr>\n",
              "      <th>19390</th>\n",
              "      <td>1.418115</td>\n",
              "      <td>101.0</td>\n",
              "      <td>2.0</td>\n",
              "      <td>6125</td>\n",
              "      <td>1.609438</td>\n",
              "      <td>0.300039</td>\n",
              "      <td>33</td>\n",
              "      <td>1189</td>\n",
              "      <td>0</td>\n",
              "      <td>0</td>\n",
              "      <td>0</td>\n",
              "      <td>1</td>\n",
              "      <td>0</td>\n",
              "      <td>0</td>\n",
              "      <td>0</td>\n",
              "      <td>0</td>\n",
              "      <td>0</td>\n",
              "      <td>0</td>\n",
              "      <td>0</td>\n",
              "      <td>0</td>\n",
              "      <td>0</td>\n",
              "      <td>0</td>\n",
              "      <td>0</td>\n",
              "      <td>0</td>\n",
              "      <td>0</td>\n",
              "      <td>0</td>\n",
              "      <td>0</td>\n",
              "      <td>0</td>\n",
              "      <td>0</td>\n",
              "      <td>0</td>\n",
              "      <td>0</td>\n",
              "      <td>0</td>\n",
              "      <td>0</td>\n",
              "      <td>0</td>\n",
              "      <td>0</td>\n",
              "    </tr>\n",
              "  </tbody>\n",
              "</table>\n",
              "</div>"
            ],
            "text/plain": [
              "        Ranking  Number of Reviews  ...  City_Warsaw  City_Zurich\n",
              "29205  1.235998               44.0  ...            0            0\n",
              "14384  0.365936               13.0  ...            0            0\n",
              "41307  1.978749              230.0  ...            0            0\n",
              "47287  1.950925               23.0  ...            0            0\n",
              "23570  1.556007                2.0  ...            0            0\n",
              "32358  0.674559               28.0  ...            0            0\n",
              "19714  2.263116                5.0  ...            0            0\n",
              "14417  1.627808               66.0  ...            0            0\n",
              "35302  0.706756              405.0  ...            0            0\n",
              "19390  1.418115              101.0  ...            0            0\n",
              "\n",
              "[10 rows x 35 columns]"
            ]
          },
          "metadata": {
            "tags": []
          },
          "execution_count": 141
        }
      ]
    },
    {
      "cell_type": "code",
      "metadata": {
        "id": "eIPzcjh7IK1l",
        "colab": {
          "base_uri": "https://localhost:8080/",
          "height": 316
        },
        "outputId": "156126c5-9f00-4ba4-8ed8-f055e4572c71"
      },
      "source": [
        "test_data = test_data.drop(['Rating'], axis=1)"
      ],
      "execution_count": 142,
      "outputs": [
        {
          "output_type": "error",
          "ename": "KeyError",
          "evalue": "ignored",
          "traceback": [
            "\u001b[0;31m---------------------------------------------------------------------------\u001b[0m",
            "\u001b[0;31mKeyError\u001b[0m                                  Traceback (most recent call last)",
            "\u001b[0;32m<ipython-input-142-688dbc593496>\u001b[0m in \u001b[0;36m<module>\u001b[0;34m()\u001b[0m\n\u001b[0;32m----> 1\u001b[0;31m \u001b[0mtest_data\u001b[0m \u001b[0;34m=\u001b[0m \u001b[0mtest_data\u001b[0m\u001b[0;34m.\u001b[0m\u001b[0mdrop\u001b[0m\u001b[0;34m(\u001b[0m\u001b[0;34m[\u001b[0m\u001b[0;34m'Rating'\u001b[0m\u001b[0;34m]\u001b[0m\u001b[0;34m,\u001b[0m \u001b[0maxis\u001b[0m\u001b[0;34m=\u001b[0m\u001b[0;36m1\u001b[0m\u001b[0;34m)\u001b[0m\u001b[0;34m\u001b[0m\u001b[0;34m\u001b[0m\u001b[0m\n\u001b[0m",
            "\u001b[0;32m/usr/local/lib/python3.7/dist-packages/pandas/core/frame.py\u001b[0m in \u001b[0;36mdrop\u001b[0;34m(self, labels, axis, index, columns, level, inplace, errors)\u001b[0m\n\u001b[1;32m   4172\u001b[0m             \u001b[0mlevel\u001b[0m\u001b[0;34m=\u001b[0m\u001b[0mlevel\u001b[0m\u001b[0;34m,\u001b[0m\u001b[0;34m\u001b[0m\u001b[0;34m\u001b[0m\u001b[0m\n\u001b[1;32m   4173\u001b[0m             \u001b[0minplace\u001b[0m\u001b[0;34m=\u001b[0m\u001b[0minplace\u001b[0m\u001b[0;34m,\u001b[0m\u001b[0;34m\u001b[0m\u001b[0;34m\u001b[0m\u001b[0m\n\u001b[0;32m-> 4174\u001b[0;31m             \u001b[0merrors\u001b[0m\u001b[0;34m=\u001b[0m\u001b[0merrors\u001b[0m\u001b[0;34m,\u001b[0m\u001b[0;34m\u001b[0m\u001b[0;34m\u001b[0m\u001b[0m\n\u001b[0m\u001b[1;32m   4175\u001b[0m         )\n\u001b[1;32m   4176\u001b[0m \u001b[0;34m\u001b[0m\u001b[0m\n",
            "\u001b[0;32m/usr/local/lib/python3.7/dist-packages/pandas/core/generic.py\u001b[0m in \u001b[0;36mdrop\u001b[0;34m(self, labels, axis, index, columns, level, inplace, errors)\u001b[0m\n\u001b[1;32m   3887\u001b[0m         \u001b[0;32mfor\u001b[0m \u001b[0maxis\u001b[0m\u001b[0;34m,\u001b[0m \u001b[0mlabels\u001b[0m \u001b[0;32min\u001b[0m \u001b[0maxes\u001b[0m\u001b[0;34m.\u001b[0m\u001b[0mitems\u001b[0m\u001b[0;34m(\u001b[0m\u001b[0;34m)\u001b[0m\u001b[0;34m:\u001b[0m\u001b[0;34m\u001b[0m\u001b[0;34m\u001b[0m\u001b[0m\n\u001b[1;32m   3888\u001b[0m             \u001b[0;32mif\u001b[0m \u001b[0mlabels\u001b[0m \u001b[0;32mis\u001b[0m \u001b[0;32mnot\u001b[0m \u001b[0;32mNone\u001b[0m\u001b[0;34m:\u001b[0m\u001b[0;34m\u001b[0m\u001b[0;34m\u001b[0m\u001b[0m\n\u001b[0;32m-> 3889\u001b[0;31m                 \u001b[0mobj\u001b[0m \u001b[0;34m=\u001b[0m \u001b[0mobj\u001b[0m\u001b[0;34m.\u001b[0m\u001b[0m_drop_axis\u001b[0m\u001b[0;34m(\u001b[0m\u001b[0mlabels\u001b[0m\u001b[0;34m,\u001b[0m \u001b[0maxis\u001b[0m\u001b[0;34m,\u001b[0m \u001b[0mlevel\u001b[0m\u001b[0;34m=\u001b[0m\u001b[0mlevel\u001b[0m\u001b[0;34m,\u001b[0m \u001b[0merrors\u001b[0m\u001b[0;34m=\u001b[0m\u001b[0merrors\u001b[0m\u001b[0;34m)\u001b[0m\u001b[0;34m\u001b[0m\u001b[0;34m\u001b[0m\u001b[0m\n\u001b[0m\u001b[1;32m   3890\u001b[0m \u001b[0;34m\u001b[0m\u001b[0m\n\u001b[1;32m   3891\u001b[0m         \u001b[0;32mif\u001b[0m \u001b[0minplace\u001b[0m\u001b[0;34m:\u001b[0m\u001b[0;34m\u001b[0m\u001b[0;34m\u001b[0m\u001b[0m\n",
            "\u001b[0;32m/usr/local/lib/python3.7/dist-packages/pandas/core/generic.py\u001b[0m in \u001b[0;36m_drop_axis\u001b[0;34m(self, labels, axis, level, errors)\u001b[0m\n\u001b[1;32m   3921\u001b[0m                 \u001b[0mnew_axis\u001b[0m \u001b[0;34m=\u001b[0m \u001b[0maxis\u001b[0m\u001b[0;34m.\u001b[0m\u001b[0mdrop\u001b[0m\u001b[0;34m(\u001b[0m\u001b[0mlabels\u001b[0m\u001b[0;34m,\u001b[0m \u001b[0mlevel\u001b[0m\u001b[0;34m=\u001b[0m\u001b[0mlevel\u001b[0m\u001b[0;34m,\u001b[0m \u001b[0merrors\u001b[0m\u001b[0;34m=\u001b[0m\u001b[0merrors\u001b[0m\u001b[0;34m)\u001b[0m\u001b[0;34m\u001b[0m\u001b[0;34m\u001b[0m\u001b[0m\n\u001b[1;32m   3922\u001b[0m             \u001b[0;32melse\u001b[0m\u001b[0;34m:\u001b[0m\u001b[0;34m\u001b[0m\u001b[0;34m\u001b[0m\u001b[0m\n\u001b[0;32m-> 3923\u001b[0;31m                 \u001b[0mnew_axis\u001b[0m \u001b[0;34m=\u001b[0m \u001b[0maxis\u001b[0m\u001b[0;34m.\u001b[0m\u001b[0mdrop\u001b[0m\u001b[0;34m(\u001b[0m\u001b[0mlabels\u001b[0m\u001b[0;34m,\u001b[0m \u001b[0merrors\u001b[0m\u001b[0;34m=\u001b[0m\u001b[0merrors\u001b[0m\u001b[0;34m)\u001b[0m\u001b[0;34m\u001b[0m\u001b[0;34m\u001b[0m\u001b[0m\n\u001b[0m\u001b[1;32m   3924\u001b[0m             \u001b[0mresult\u001b[0m \u001b[0;34m=\u001b[0m \u001b[0mself\u001b[0m\u001b[0;34m.\u001b[0m\u001b[0mreindex\u001b[0m\u001b[0;34m(\u001b[0m\u001b[0;34m**\u001b[0m\u001b[0;34m{\u001b[0m\u001b[0maxis_name\u001b[0m\u001b[0;34m:\u001b[0m \u001b[0mnew_axis\u001b[0m\u001b[0;34m}\u001b[0m\u001b[0;34m)\u001b[0m\u001b[0;34m\u001b[0m\u001b[0;34m\u001b[0m\u001b[0m\n\u001b[1;32m   3925\u001b[0m \u001b[0;34m\u001b[0m\u001b[0m\n",
            "\u001b[0;32m/usr/local/lib/python3.7/dist-packages/pandas/core/indexes/base.py\u001b[0m in \u001b[0;36mdrop\u001b[0;34m(self, labels, errors)\u001b[0m\n\u001b[1;32m   5285\u001b[0m         \u001b[0;32mif\u001b[0m \u001b[0mmask\u001b[0m\u001b[0;34m.\u001b[0m\u001b[0many\u001b[0m\u001b[0;34m(\u001b[0m\u001b[0;34m)\u001b[0m\u001b[0;34m:\u001b[0m\u001b[0;34m\u001b[0m\u001b[0;34m\u001b[0m\u001b[0m\n\u001b[1;32m   5286\u001b[0m             \u001b[0;32mif\u001b[0m \u001b[0merrors\u001b[0m \u001b[0;34m!=\u001b[0m \u001b[0;34m\"ignore\"\u001b[0m\u001b[0;34m:\u001b[0m\u001b[0;34m\u001b[0m\u001b[0;34m\u001b[0m\u001b[0m\n\u001b[0;32m-> 5287\u001b[0;31m                 \u001b[0;32mraise\u001b[0m \u001b[0mKeyError\u001b[0m\u001b[0;34m(\u001b[0m\u001b[0;34mf\"{labels[mask]} not found in axis\"\u001b[0m\u001b[0;34m)\u001b[0m\u001b[0;34m\u001b[0m\u001b[0;34m\u001b[0m\u001b[0m\n\u001b[0m\u001b[1;32m   5288\u001b[0m             \u001b[0mindexer\u001b[0m \u001b[0;34m=\u001b[0m \u001b[0mindexer\u001b[0m\u001b[0;34m[\u001b[0m\u001b[0;34m~\u001b[0m\u001b[0mmask\u001b[0m\u001b[0;34m]\u001b[0m\u001b[0;34m\u001b[0m\u001b[0;34m\u001b[0m\u001b[0m\n\u001b[1;32m   5289\u001b[0m         \u001b[0;32mreturn\u001b[0m \u001b[0mself\u001b[0m\u001b[0;34m.\u001b[0m\u001b[0mdelete\u001b[0m\u001b[0;34m(\u001b[0m\u001b[0mindexer\u001b[0m\u001b[0;34m)\u001b[0m\u001b[0;34m\u001b[0m\u001b[0;34m\u001b[0m\u001b[0m\n",
            "\u001b[0;31mKeyError\u001b[0m: \"['Rating'] not found in axis\""
          ]
        }
      ]
    },
    {
      "cell_type": "code",
      "metadata": {
        "id": "uVZI_sBGIK1l",
        "colab": {
          "base_uri": "https://localhost:8080/",
          "height": 406
        },
        "outputId": "4c0a4cf2-2cd8-43db-a9d5-0641925733a2"
      },
      "source": [
        "sample_submission"
      ],
      "execution_count": 143,
      "outputs": [
        {
          "output_type": "execute_result",
          "data": {
            "text/html": [
              "<div>\n",
              "<style scoped>\n",
              "    .dataframe tbody tr th:only-of-type {\n",
              "        vertical-align: middle;\n",
              "    }\n",
              "\n",
              "    .dataframe tbody tr th {\n",
              "        vertical-align: top;\n",
              "    }\n",
              "\n",
              "    .dataframe thead th {\n",
              "        text-align: right;\n",
              "    }\n",
              "</style>\n",
              "<table border=\"1\" class=\"dataframe\">\n",
              "  <thead>\n",
              "    <tr style=\"text-align: right;\">\n",
              "      <th></th>\n",
              "      <th>Restaurant_id</th>\n",
              "      <th>Rating</th>\n",
              "    </tr>\n",
              "  </thead>\n",
              "  <tbody>\n",
              "    <tr>\n",
              "      <th>0</th>\n",
              "      <td>id_0</td>\n",
              "      <td>2.0</td>\n",
              "    </tr>\n",
              "    <tr>\n",
              "      <th>1</th>\n",
              "      <td>id_1</td>\n",
              "      <td>2.5</td>\n",
              "    </tr>\n",
              "    <tr>\n",
              "      <th>2</th>\n",
              "      <td>id_2</td>\n",
              "      <td>4.0</td>\n",
              "    </tr>\n",
              "    <tr>\n",
              "      <th>3</th>\n",
              "      <td>id_3</td>\n",
              "      <td>1.0</td>\n",
              "    </tr>\n",
              "    <tr>\n",
              "      <th>4</th>\n",
              "      <td>id_4</td>\n",
              "      <td>4.0</td>\n",
              "    </tr>\n",
              "    <tr>\n",
              "      <th>...</th>\n",
              "      <td>...</td>\n",
              "      <td>...</td>\n",
              "    </tr>\n",
              "    <tr>\n",
              "      <th>9995</th>\n",
              "      <td>id_9995</td>\n",
              "      <td>3.0</td>\n",
              "    </tr>\n",
              "    <tr>\n",
              "      <th>9996</th>\n",
              "      <td>id_9996</td>\n",
              "      <td>1.5</td>\n",
              "    </tr>\n",
              "    <tr>\n",
              "      <th>9997</th>\n",
              "      <td>id_9997</td>\n",
              "      <td>4.5</td>\n",
              "    </tr>\n",
              "    <tr>\n",
              "      <th>9998</th>\n",
              "      <td>id_9998</td>\n",
              "      <td>1.0</td>\n",
              "    </tr>\n",
              "    <tr>\n",
              "      <th>9999</th>\n",
              "      <td>id_9999</td>\n",
              "      <td>2.5</td>\n",
              "    </tr>\n",
              "  </tbody>\n",
              "</table>\n",
              "<p>10000 rows × 2 columns</p>\n",
              "</div>"
            ],
            "text/plain": [
              "     Restaurant_id  Rating\n",
              "0             id_0     2.0\n",
              "1             id_1     2.5\n",
              "2             id_2     4.0\n",
              "3             id_3     1.0\n",
              "4             id_4     4.0\n",
              "...            ...     ...\n",
              "9995       id_9995     3.0\n",
              "9996       id_9996     1.5\n",
              "9997       id_9997     4.5\n",
              "9998       id_9998     1.0\n",
              "9999       id_9999     2.5\n",
              "\n",
              "[10000 rows x 2 columns]"
            ]
          },
          "metadata": {
            "tags": []
          },
          "execution_count": 143
        }
      ]
    },
    {
      "cell_type": "code",
      "metadata": {
        "id": "-HxZ_lhMIK1m",
        "colab": {
          "base_uri": "https://localhost:8080/"
        },
        "outputId": "4942e809-cfac-4abc-8918-4fd534b4157e"
      },
      "source": [
        "predict_submission = model.predict(test_data)"
      ],
      "execution_count": 144,
      "outputs": [
        {
          "output_type": "stream",
          "text": [
            "[Parallel(n_jobs=2)]: Using backend ThreadingBackend with 2 concurrent workers.\n",
            "[Parallel(n_jobs=2)]: Done  46 tasks      | elapsed:    0.3s\n",
            "[Parallel(n_jobs=2)]: Done 100 out of 100 | elapsed:    0.5s finished\n"
          ],
          "name": "stderr"
        }
      ]
    },
    {
      "cell_type": "code",
      "metadata": {
        "id": "Nwjd_J6AIK1m",
        "colab": {
          "base_uri": "https://localhost:8080/"
        },
        "outputId": "48b95244-405d-4ca7-e4c1-33206b91df23"
      },
      "source": [
        "predict_submission"
      ],
      "execution_count": 145,
      "outputs": [
        {
          "output_type": "execute_result",
          "data": {
            "text/plain": [
              "array([3.52 , 4.06 , 4.48 , ..., 4.4  , 4.015, 3.04 ])"
            ]
          },
          "metadata": {
            "tags": []
          },
          "execution_count": 145
        }
      ]
    },
    {
      "cell_type": "code",
      "metadata": {
        "id": "KKnwO0bkIK1n",
        "colab": {
          "base_uri": "https://localhost:8080/",
          "height": 352
        },
        "outputId": "bba1141b-de35-431d-99da-59b1498e48dd"
      },
      "source": [
        "sample_submission['Rating'] = predict_submission\n",
        "sample_submission.to_csv('submission.csv', index=False)\n",
        "sample_submission.head(10)"
      ],
      "execution_count": 138,
      "outputs": [
        {
          "output_type": "error",
          "ename": "ValueError",
          "evalue": "ignored",
          "traceback": [
            "\u001b[0;31m---------------------------------------------------------------------------\u001b[0m",
            "\u001b[0;31mValueError\u001b[0m                                Traceback (most recent call last)",
            "\u001b[0;32m<ipython-input-138-dbe531397947>\u001b[0m in \u001b[0;36m<module>\u001b[0;34m()\u001b[0m\n\u001b[0;32m----> 1\u001b[0;31m \u001b[0msample_submission\u001b[0m\u001b[0;34m[\u001b[0m\u001b[0;34m'Rating'\u001b[0m\u001b[0;34m]\u001b[0m \u001b[0;34m=\u001b[0m \u001b[0mpredict_submission\u001b[0m\u001b[0;34m\u001b[0m\u001b[0;34m\u001b[0m\u001b[0m\n\u001b[0m\u001b[1;32m      2\u001b[0m \u001b[0msample_submission\u001b[0m\u001b[0;34m.\u001b[0m\u001b[0mto_csv\u001b[0m\u001b[0;34m(\u001b[0m\u001b[0;34m'submission.csv'\u001b[0m\u001b[0;34m,\u001b[0m \u001b[0mindex\u001b[0m\u001b[0;34m=\u001b[0m\u001b[0;32mFalse\u001b[0m\u001b[0;34m)\u001b[0m\u001b[0;34m\u001b[0m\u001b[0;34m\u001b[0m\u001b[0m\n\u001b[1;32m      3\u001b[0m \u001b[0msample_submission\u001b[0m\u001b[0;34m.\u001b[0m\u001b[0mhead\u001b[0m\u001b[0;34m(\u001b[0m\u001b[0;36m10\u001b[0m\u001b[0;34m)\u001b[0m\u001b[0;34m\u001b[0m\u001b[0;34m\u001b[0m\u001b[0m\n",
            "\u001b[0;32m/usr/local/lib/python3.7/dist-packages/pandas/core/frame.py\u001b[0m in \u001b[0;36m__setitem__\u001b[0;34m(self, key, value)\u001b[0m\n\u001b[1;32m   3042\u001b[0m         \u001b[0;32melse\u001b[0m\u001b[0;34m:\u001b[0m\u001b[0;34m\u001b[0m\u001b[0;34m\u001b[0m\u001b[0m\n\u001b[1;32m   3043\u001b[0m             \u001b[0;31m# set column\u001b[0m\u001b[0;34m\u001b[0m\u001b[0;34m\u001b[0m\u001b[0;34m\u001b[0m\u001b[0m\n\u001b[0;32m-> 3044\u001b[0;31m             \u001b[0mself\u001b[0m\u001b[0;34m.\u001b[0m\u001b[0m_set_item\u001b[0m\u001b[0;34m(\u001b[0m\u001b[0mkey\u001b[0m\u001b[0;34m,\u001b[0m \u001b[0mvalue\u001b[0m\u001b[0;34m)\u001b[0m\u001b[0;34m\u001b[0m\u001b[0;34m\u001b[0m\u001b[0m\n\u001b[0m\u001b[1;32m   3045\u001b[0m \u001b[0;34m\u001b[0m\u001b[0m\n\u001b[1;32m   3046\u001b[0m     \u001b[0;32mdef\u001b[0m \u001b[0m_setitem_slice\u001b[0m\u001b[0;34m(\u001b[0m\u001b[0mself\u001b[0m\u001b[0;34m,\u001b[0m \u001b[0mkey\u001b[0m\u001b[0;34m:\u001b[0m \u001b[0mslice\u001b[0m\u001b[0;34m,\u001b[0m \u001b[0mvalue\u001b[0m\u001b[0;34m)\u001b[0m\u001b[0;34m:\u001b[0m\u001b[0;34m\u001b[0m\u001b[0;34m\u001b[0m\u001b[0m\n",
            "\u001b[0;32m/usr/local/lib/python3.7/dist-packages/pandas/core/frame.py\u001b[0m in \u001b[0;36m_set_item\u001b[0;34m(self, key, value)\u001b[0m\n\u001b[1;32m   3118\u001b[0m         \"\"\"\n\u001b[1;32m   3119\u001b[0m         \u001b[0mself\u001b[0m\u001b[0;34m.\u001b[0m\u001b[0m_ensure_valid_index\u001b[0m\u001b[0;34m(\u001b[0m\u001b[0mvalue\u001b[0m\u001b[0;34m)\u001b[0m\u001b[0;34m\u001b[0m\u001b[0;34m\u001b[0m\u001b[0m\n\u001b[0;32m-> 3120\u001b[0;31m         \u001b[0mvalue\u001b[0m \u001b[0;34m=\u001b[0m \u001b[0mself\u001b[0m\u001b[0;34m.\u001b[0m\u001b[0m_sanitize_column\u001b[0m\u001b[0;34m(\u001b[0m\u001b[0mkey\u001b[0m\u001b[0;34m,\u001b[0m \u001b[0mvalue\u001b[0m\u001b[0;34m)\u001b[0m\u001b[0;34m\u001b[0m\u001b[0;34m\u001b[0m\u001b[0m\n\u001b[0m\u001b[1;32m   3121\u001b[0m         \u001b[0mNDFrame\u001b[0m\u001b[0;34m.\u001b[0m\u001b[0m_set_item\u001b[0m\u001b[0;34m(\u001b[0m\u001b[0mself\u001b[0m\u001b[0;34m,\u001b[0m \u001b[0mkey\u001b[0m\u001b[0;34m,\u001b[0m \u001b[0mvalue\u001b[0m\u001b[0;34m)\u001b[0m\u001b[0;34m\u001b[0m\u001b[0;34m\u001b[0m\u001b[0m\n\u001b[1;32m   3122\u001b[0m \u001b[0;34m\u001b[0m\u001b[0m\n",
            "\u001b[0;32m/usr/local/lib/python3.7/dist-packages/pandas/core/frame.py\u001b[0m in \u001b[0;36m_sanitize_column\u001b[0;34m(self, key, value, broadcast)\u001b[0m\n\u001b[1;32m   3766\u001b[0m \u001b[0;34m\u001b[0m\u001b[0m\n\u001b[1;32m   3767\u001b[0m             \u001b[0;31m# turn me into an ndarray\u001b[0m\u001b[0;34m\u001b[0m\u001b[0;34m\u001b[0m\u001b[0;34m\u001b[0m\u001b[0m\n\u001b[0;32m-> 3768\u001b[0;31m             \u001b[0mvalue\u001b[0m \u001b[0;34m=\u001b[0m \u001b[0msanitize_index\u001b[0m\u001b[0;34m(\u001b[0m\u001b[0mvalue\u001b[0m\u001b[0;34m,\u001b[0m \u001b[0mself\u001b[0m\u001b[0;34m.\u001b[0m\u001b[0mindex\u001b[0m\u001b[0;34m)\u001b[0m\u001b[0;34m\u001b[0m\u001b[0;34m\u001b[0m\u001b[0m\n\u001b[0m\u001b[1;32m   3769\u001b[0m             \u001b[0;32mif\u001b[0m \u001b[0;32mnot\u001b[0m \u001b[0misinstance\u001b[0m\u001b[0;34m(\u001b[0m\u001b[0mvalue\u001b[0m\u001b[0;34m,\u001b[0m \u001b[0;34m(\u001b[0m\u001b[0mnp\u001b[0m\u001b[0;34m.\u001b[0m\u001b[0mndarray\u001b[0m\u001b[0;34m,\u001b[0m \u001b[0mIndex\u001b[0m\u001b[0;34m)\u001b[0m\u001b[0;34m)\u001b[0m\u001b[0;34m:\u001b[0m\u001b[0;34m\u001b[0m\u001b[0;34m\u001b[0m\u001b[0m\n\u001b[1;32m   3770\u001b[0m                 \u001b[0;32mif\u001b[0m \u001b[0misinstance\u001b[0m\u001b[0;34m(\u001b[0m\u001b[0mvalue\u001b[0m\u001b[0;34m,\u001b[0m \u001b[0mlist\u001b[0m\u001b[0;34m)\u001b[0m \u001b[0;32mand\u001b[0m \u001b[0mlen\u001b[0m\u001b[0;34m(\u001b[0m\u001b[0mvalue\u001b[0m\u001b[0;34m)\u001b[0m \u001b[0;34m>\u001b[0m \u001b[0;36m0\u001b[0m\u001b[0;34m:\u001b[0m\u001b[0;34m\u001b[0m\u001b[0;34m\u001b[0m\u001b[0m\n",
            "\u001b[0;32m/usr/local/lib/python3.7/dist-packages/pandas/core/internals/construction.py\u001b[0m in \u001b[0;36msanitize_index\u001b[0;34m(data, index)\u001b[0m\n\u001b[1;32m    746\u001b[0m     \u001b[0;32mif\u001b[0m \u001b[0mlen\u001b[0m\u001b[0;34m(\u001b[0m\u001b[0mdata\u001b[0m\u001b[0;34m)\u001b[0m \u001b[0;34m!=\u001b[0m \u001b[0mlen\u001b[0m\u001b[0;34m(\u001b[0m\u001b[0mindex\u001b[0m\u001b[0;34m)\u001b[0m\u001b[0;34m:\u001b[0m\u001b[0;34m\u001b[0m\u001b[0;34m\u001b[0m\u001b[0m\n\u001b[1;32m    747\u001b[0m         raise ValueError(\n\u001b[0;32m--> 748\u001b[0;31m             \u001b[0;34m\"Length of values \"\u001b[0m\u001b[0;34m\u001b[0m\u001b[0;34m\u001b[0m\u001b[0m\n\u001b[0m\u001b[1;32m    749\u001b[0m             \u001b[0;34mf\"({len(data)}) \"\u001b[0m\u001b[0;34m\u001b[0m\u001b[0;34m\u001b[0m\u001b[0m\n\u001b[1;32m    750\u001b[0m             \u001b[0;34m\"does not match length of index \"\u001b[0m\u001b[0;34m\u001b[0m\u001b[0;34m\u001b[0m\u001b[0m\n",
            "\u001b[0;31mValueError\u001b[0m: Length of values (39980) does not match length of index (10000)"
          ]
        }
      ]
    },
    {
      "cell_type": "markdown",
      "metadata": {
        "id": "ghiMDGvgIK1n"
      },
      "source": [
        "# What's next?\n",
        "Или что делать, чтоб улучшить результат:\n",
        "* Обработать оставшиеся признаки в понятный для машины формат\n",
        "* Посмотреть, что еще можно извлечь из признаков\n",
        "* Сгенерировать новые признаки\n",
        "* Подгрузить дополнительные данные, например: по населению или благосостоянию городов\n",
        "* Подобрать состав признаков\n",
        "\n",
        "В общем, процесс творческий и весьма увлекательный! Удачи в соревновании!\n"
      ]
    },
    {
      "cell_type": "code",
      "metadata": {
        "id": "qCsiruRGIK1n"
      },
      "source": [
        ""
      ],
      "execution_count": null,
      "outputs": []
    }
  ]
}
